{
  "nbformat": 4,
  "nbformat_minor": 0,
  "metadata": {
    "colab": {
      "name": "fremtpl.ipynb",
      "version": "0.3.2",
      "provenance": [],
      "collapsed_sections": [],
      "toc_visible": true,
      "include_colab_link": true
    },
    "kernelspec": {
      "name": "python3",
      "display_name": "Python 3"
    },
    "accelerator": "GPU"
  },
  "cells": [
    {
      "cell_type": "markdown",
      "metadata": {
        "id": "view-in-github",
        "colab_type": "text"
      },
      "source": [
        "<a href=\"https://colab.research.google.com/github/RonRichman/fastai_on_freMTPL/blob/master/fremtpl.ipynb\" target=\"_parent\"><img src=\"https://colab.research.google.com/assets/colab-badge.svg\" alt=\"Open In Colab\"/></a>"
      ]
    },
    {
      "metadata": {
        "id": "BooIvQjZfGfE",
        "colab_type": "text"
      },
      "cell_type": "markdown",
      "source": [
        "# Install requirements and get the data into Pandas"
      ]
    },
    {
      "metadata": {
        "id": "1ngTQZmlSvOD",
        "colab_type": "code",
        "outputId": "72993289-4f00-4061-b219-994317a0a1c3",
        "colab": {
          "base_uri": "https://localhost:8080/",
          "height": 10900
        }
      },
      "cell_type": "code",
      "source": [
        "!apt-get update\n",
        "!apt-get install r-base\n",
        "!pip install rpy2"
      ],
      "execution_count": 1,
      "outputs": [
        {
          "output_type": "stream",
          "text": [
            "Get:1 http://security.ubuntu.com/ubuntu bionic-security InRelease [83.2 kB]\n",
            "Get:2 http://ppa.launchpad.net/graphics-drivers/ppa/ubuntu bionic InRelease [21.3 kB]\n",
            "Ign:3 https://developer.download.nvidia.com/compute/cuda/repos/ubuntu1710/x86_64  InRelease\n",
            "Hit:4 http://archive.ubuntu.com/ubuntu bionic InRelease\n",
            "Ign:5 https://developer.download.nvidia.com/compute/machine-learning/repos/ubuntu1604/x86_64  InRelease\n",
            "Hit:6 https://developer.download.nvidia.com/compute/cuda/repos/ubuntu1710/x86_64  Release\n",
            "Hit:7 https://developer.download.nvidia.com/compute/machine-learning/repos/ubuntu1604/x86_64  Release\n",
            "Get:8 http://security.ubuntu.com/ubuntu bionic-security/universe amd64 Packages [135 kB]\n",
            "Get:9 http://archive.ubuntu.com/ubuntu bionic-updates InRelease [88.7 kB]\n",
            "Get:10 http://ppa.launchpad.net/graphics-drivers/ppa/ubuntu bionic/main amd64 Packages [27.2 kB]\n",
            "Get:12 http://security.ubuntu.com/ubuntu bionic-security/main amd64 Packages [300 kB]\n",
            "Get:14 http://archive.ubuntu.com/ubuntu bionic-backports InRelease [74.6 kB]\n",
            "Get:15 http://archive.ubuntu.com/ubuntu bionic-updates/universe amd64 Packages [900 kB]\n",
            "Get:16 http://archive.ubuntu.com/ubuntu bionic-updates/main amd64 Packages [618 kB]\n",
            "Fetched 2,248 kB in 4s (552 kB/s)\n",
            "Reading package lists... Done\n",
            "Reading package lists... Done\n",
            "Building dependency tree       \n",
            "Reading state information... Done\n",
            "The following additional packages will be installed:\n",
            "  autoconf automake autopoint autotools-dev bzip2-doc cdbs debhelper\n",
            "  dh-autoreconf dh-strip-nondeterminism dh-translations file gettext\n",
            "  gettext-base intltool intltool-debian jq libarchive-cpio-perl\n",
            "  libarchive-zip-perl libauthen-sasl-perl libbz2-dev libdata-dump-perl\n",
            "  libencode-locale-perl libfile-basedir-perl libfile-desktopentry-perl\n",
            "  libfile-listing-perl libfile-mimeinfo-perl libfile-stripnondeterminism-perl\n",
            "  libfile-which-perl libfont-afm-perl libhtml-form-perl libhtml-format-perl\n",
            "  libhtml-parser-perl libhtml-tagset-perl libhtml-tree-perl\n",
            "  libhttp-cookies-perl libhttp-daemon-perl libhttp-date-perl\n",
            "  libhttp-message-perl libhttp-negotiate-perl libio-html-perl\n",
            "  libio-socket-ssl-perl libipc-system-simple-perl libjq1\n",
            "  liblwp-mediatypes-perl liblwp-protocol-https-perl libmagic-mgc libmagic1\n",
            "  libmail-sendmail-perl libmailtools-perl libnet-dbus-perl libnet-http-perl\n",
            "  libnet-smtp-ssl-perl libnet-ssleay-perl libonig4 libpaper-utils libpaper1\n",
            "  libreadline-dev libsigsegv2 libsys-hostname-long-perl libtext-iconv-perl\n",
            "  libtie-ixhash-perl libtimedate-perl libtool libtry-tiny-perl liburi-perl\n",
            "  libwww-perl libwww-robotrules-perl libx11-protocol-perl libxml-parser-perl\n",
            "  libxml-twig-perl libxml-xpathengine-perl libxmuu1 libxxf86dga1 m4 netbase\n",
            "  perl-openssl-defaults po-debconf python3-pkg-resources python3-scour\n",
            "  python3-six r-base-core r-base-dev r-base-html r-cran-boot r-cran-class\n",
            "  r-cran-cluster r-cran-codetools r-cran-foreign r-cran-kernsmooth\n",
            "  r-cran-lattice r-cran-mass r-cran-matrix r-cran-mgcv r-cran-nlme r-cran-nnet\n",
            "  r-cran-rpart r-cran-spatial r-cran-survival r-doc-html r-recommended scour\n",
            "  x11-utils x11-xserver-utils xauth xdg-utils\n",
            "Suggested packages:\n",
            "  autoconf-archive gnu-standards autoconf-doc devscripts dh-make dwz\n",
            "  gettext-doc libasprintf-dev libgettextpo-dev libdigest-hmac-perl\n",
            "  libgssapi-perl libcrypt-ssleay-perl readline-doc libtool-doc gcj-jdk\n",
            "  libauthen-ntlm-perl libunicode-map8-perl libunicode-string-perl\n",
            "  xml-twig-tools m4-doc libmail-box-perl python3-setuptools ess r-doc-info\n",
            "  | r-doc-pdf r-mathlib texlive-base texlive-latex-base\n",
            "  texlive-generic-recommended texlive-fonts-recommended texlive-fonts-extra\n",
            "  texlive-extra-utils texlive-latex-recommended texlive-latex-extra texinfo\n",
            "  mozilla | www-browser gir1.2-rsvg-2.0 python3-gi-cairo mesa-utils nickle\n",
            "  cairo-5c xorg-docs-core\n",
            "The following NEW packages will be installed:\n",
            "  autoconf automake autopoint autotools-dev bzip2-doc cdbs debhelper\n",
            "  dh-autoreconf dh-strip-nondeterminism dh-translations file gettext\n",
            "  gettext-base intltool intltool-debian jq libarchive-cpio-perl\n",
            "  libarchive-zip-perl libauthen-sasl-perl libbz2-dev libdata-dump-perl\n",
            "  libencode-locale-perl libfile-basedir-perl libfile-desktopentry-perl\n",
            "  libfile-listing-perl libfile-mimeinfo-perl libfile-stripnondeterminism-perl\n",
            "  libfile-which-perl libfont-afm-perl libhtml-form-perl libhtml-format-perl\n",
            "  libhtml-parser-perl libhtml-tagset-perl libhtml-tree-perl\n",
            "  libhttp-cookies-perl libhttp-daemon-perl libhttp-date-perl\n",
            "  libhttp-message-perl libhttp-negotiate-perl libio-html-perl\n",
            "  libio-socket-ssl-perl libipc-system-simple-perl libjq1\n",
            "  liblwp-mediatypes-perl liblwp-protocol-https-perl libmagic-mgc libmagic1\n",
            "  libmail-sendmail-perl libmailtools-perl libnet-dbus-perl libnet-http-perl\n",
            "  libnet-smtp-ssl-perl libnet-ssleay-perl libonig4 libpaper-utils libpaper1\n",
            "  libreadline-dev libsigsegv2 libsys-hostname-long-perl libtext-iconv-perl\n",
            "  libtie-ixhash-perl libtimedate-perl libtool libtry-tiny-perl liburi-perl\n",
            "  libwww-perl libwww-robotrules-perl libx11-protocol-perl libxml-parser-perl\n",
            "  libxml-twig-perl libxml-xpathengine-perl libxmuu1 libxxf86dga1 m4 netbase\n",
            "  perl-openssl-defaults po-debconf python3-pkg-resources python3-scour\n",
            "  python3-six r-base r-base-core r-base-dev r-base-html r-cran-boot\n",
            "  r-cran-class r-cran-cluster r-cran-codetools r-cran-foreign\n",
            "  r-cran-kernsmooth r-cran-lattice r-cran-mass r-cran-matrix r-cran-mgcv\n",
            "  r-cran-nlme r-cran-nnet r-cran-rpart r-cran-spatial r-cran-survival\n",
            "  r-doc-html r-recommended scour x11-utils x11-xserver-utils xauth xdg-utils\n",
            "0 upgraded, 106 newly installed, 0 to remove and 12 not upgraded.\n",
            "Need to get 48.5 MB of archives.\n",
            "After this operation, 93.8 MB of additional disk space will be used.\n",
            "Get:1 http://archive.ubuntu.com/ubuntu bionic/main amd64 libxxf86dga1 amd64 2:1.1.4-1 [13.7 kB]\n",
            "Get:2 http://archive.ubuntu.com/ubuntu bionic-updates/main amd64 libmagic-mgc amd64 1:5.32-2ubuntu0.1 [184 kB]\n",
            "Get:3 http://archive.ubuntu.com/ubuntu bionic-updates/main amd64 libmagic1 amd64 1:5.32-2ubuntu0.1 [68.4 kB]\n",
            "Get:4 http://archive.ubuntu.com/ubuntu bionic-updates/main amd64 file amd64 1:5.32-2ubuntu0.1 [22.1 kB]\n",
            "Get:5 http://archive.ubuntu.com/ubuntu bionic/main amd64 libtext-iconv-perl amd64 1.7-5build6 [13.0 kB]\n",
            "Get:6 http://archive.ubuntu.com/ubuntu bionic/main amd64 netbase all 5.4 [12.7 kB]\n",
            "Get:7 http://archive.ubuntu.com/ubuntu bionic-updates/main amd64 gettext-base amd64 0.19.8.1-6ubuntu0.1 [50.1 kB]\n",
            "Get:8 http://archive.ubuntu.com/ubuntu bionic/main amd64 libxmuu1 amd64 2:1.1.2-2 [9,674 B]\n",
            "Get:9 http://archive.ubuntu.com/ubuntu bionic/main amd64 xauth amd64 1:1.0.10-1 [24.6 kB]\n",
            "Get:10 http://archive.ubuntu.com/ubuntu bionic/main amd64 libsigsegv2 amd64 2.12-1 [14.7 kB]\n",
            "Get:11 http://archive.ubuntu.com/ubuntu bionic/main amd64 m4 amd64 1.4.18-1 [197 kB]\n",
            "Get:12 http://archive.ubuntu.com/ubuntu bionic/main amd64 autoconf all 2.69-11 [322 kB]\n",
            "Get:13 http://archive.ubuntu.com/ubuntu bionic/main amd64 autotools-dev all 20180224.1 [39.6 kB]\n",
            "Get:14 http://archive.ubuntu.com/ubuntu bionic/main amd64 automake all 1:1.15.1-3ubuntu2 [509 kB]\n",
            "Get:15 http://archive.ubuntu.com/ubuntu bionic-updates/main amd64 autopoint all 0.19.8.1-6ubuntu0.1 [412 kB]\n",
            "Get:16 http://archive.ubuntu.com/ubuntu bionic/main amd64 bzip2-doc all 1.0.6-8.1 [294 kB]\n",
            "Get:17 http://archive.ubuntu.com/ubuntu bionic/main amd64 libtool all 2.4.6-2 [194 kB]\n",
            "Get:18 http://archive.ubuntu.com/ubuntu bionic/main amd64 dh-autoreconf all 17 [15.8 kB]\n",
            "Get:19 http://archive.ubuntu.com/ubuntu bionic-updates/main amd64 libarchive-zip-perl all 1.60-1ubuntu0.1 [84.6 kB]\n",
            "Get:20 http://archive.ubuntu.com/ubuntu bionic/main amd64 libfile-stripnondeterminism-perl all 0.040-1.1~build1 [13.8 kB]\n",
            "Get:21 http://archive.ubuntu.com/ubuntu bionic/main amd64 libtimedate-perl all 2.3000-2 [37.5 kB]\n",
            "Get:22 http://archive.ubuntu.com/ubuntu bionic/main amd64 dh-strip-nondeterminism all 0.040-1.1~build1 [5,208 B]\n",
            "Get:23 http://archive.ubuntu.com/ubuntu bionic-updates/main amd64 gettext amd64 0.19.8.1-6ubuntu0.1 [894 kB]\n",
            "Get:24 http://archive.ubuntu.com/ubuntu bionic/main amd64 intltool-debian all 0.35.0+20060710.4 [24.9 kB]\n",
            "Get:25 http://archive.ubuntu.com/ubuntu bionic/main amd64 po-debconf all 1.0.20 [232 kB]\n",
            "Get:26 http://archive.ubuntu.com/ubuntu bionic-updates/main amd64 debhelper all 11.1.6ubuntu2 [902 kB]\n",
            "Get:27 http://archive.ubuntu.com/ubuntu bionic/main amd64 liburi-perl all 1.73-1 [77.2 kB]\n",
            "Get:28 http://archive.ubuntu.com/ubuntu bionic/main amd64 libencode-locale-perl all 1.05-1 [12.3 kB]\n",
            "Get:29 http://archive.ubuntu.com/ubuntu bionic/main amd64 libhttp-date-perl all 6.02-1 [10.4 kB]\n",
            "Get:30 http://archive.ubuntu.com/ubuntu bionic/main amd64 libfile-listing-perl all 6.04-1 [9,774 B]\n",
            "Get:31 http://archive.ubuntu.com/ubuntu bionic/main amd64 libhtml-tagset-perl all 3.20-3 [12.1 kB]\n",
            "Get:32 http://archive.ubuntu.com/ubuntu bionic/main amd64 libhtml-parser-perl amd64 3.72-3build1 [85.9 kB]\n",
            "Get:33 http://archive.ubuntu.com/ubuntu bionic/main amd64 libhtml-tree-perl all 5.07-1 [200 kB]\n",
            "Get:34 http://archive.ubuntu.com/ubuntu bionic/main amd64 libio-html-perl all 1.001-1 [14.9 kB]\n",
            "Get:35 http://archive.ubuntu.com/ubuntu bionic/main amd64 liblwp-mediatypes-perl all 6.02-1 [21.7 kB]\n",
            "Get:36 http://archive.ubuntu.com/ubuntu bionic/main amd64 libhttp-message-perl all 6.14-1 [72.1 kB]\n",
            "Get:37 http://archive.ubuntu.com/ubuntu bionic/main amd64 libhttp-cookies-perl all 6.04-1 [17.2 kB]\n",
            "Get:38 http://archive.ubuntu.com/ubuntu bionic/main amd64 libhttp-negotiate-perl all 6.00-2 [13.4 kB]\n",
            "Get:39 http://archive.ubuntu.com/ubuntu bionic/main amd64 perl-openssl-defaults amd64 3build1 [7,012 B]\n",
            "Get:40 http://archive.ubuntu.com/ubuntu bionic/main amd64 libnet-ssleay-perl amd64 1.84-1build1 [282 kB]\n",
            "Get:41 http://archive.ubuntu.com/ubuntu bionic/main amd64 libio-socket-ssl-perl all 2.056-1 [172 kB]\n",
            "Get:42 http://archive.ubuntu.com/ubuntu bionic/main amd64 libnet-http-perl all 6.17-1 [22.7 kB]\n",
            "Get:43 http://archive.ubuntu.com/ubuntu bionic/main amd64 liblwp-protocol-https-perl all 6.07-2 [8,284 B]\n",
            "Get:44 http://archive.ubuntu.com/ubuntu bionic/main amd64 libtry-tiny-perl all 0.30-1 [20.5 kB]\n",
            "Get:45 http://archive.ubuntu.com/ubuntu bionic/main amd64 libwww-robotrules-perl all 6.01-1 [14.1 kB]\n",
            "Get:46 http://archive.ubuntu.com/ubuntu bionic/main amd64 libwww-perl all 6.31-1 [137 kB]\n",
            "Get:47 http://archive.ubuntu.com/ubuntu bionic/main amd64 libxml-parser-perl amd64 2.44-2build3 [199 kB]\n",
            "Get:48 http://archive.ubuntu.com/ubuntu bionic/universe amd64 intltool all 0.51.0-5ubuntu1 [44.6 kB]\n",
            "Get:49 http://archive.ubuntu.com/ubuntu bionic/universe amd64 libonig4 amd64 6.7.0-1 [119 kB]\n",
            "Get:50 http://archive.ubuntu.com/ubuntu bionic/universe amd64 libjq1 amd64 1.5+dfsg-2 [111 kB]\n",
            "Get:51 http://archive.ubuntu.com/ubuntu bionic/universe amd64 jq amd64 1.5+dfsg-2 [45.6 kB]\n",
            "Get:52 http://archive.ubuntu.com/ubuntu bionic/main amd64 libfile-which-perl all 1.21-1 [11.8 kB]\n",
            "Get:53 http://archive.ubuntu.com/ubuntu bionic-updates/universe amd64 dh-translations all 138.18.04.0 [23.5 kB]\n",
            "Get:54 http://archive.ubuntu.com/ubuntu bionic/main amd64 python3-six all 1.11.0-2 [11.4 kB]\n",
            "Get:55 http://archive.ubuntu.com/ubuntu bionic/main amd64 python3-pkg-resources all 39.0.1-2 [98.8 kB]\n",
            "Get:56 http://archive.ubuntu.com/ubuntu bionic/universe amd64 python3-scour all 0.36-2 [44.8 kB]\n",
            "Get:57 http://archive.ubuntu.com/ubuntu bionic/universe amd64 scour all 0.36-2 [7,372 B]\n",
            "Get:58 http://archive.ubuntu.com/ubuntu bionic/universe amd64 cdbs all 0.4.156ubuntu4 [45.4 kB]\n",
            "Get:59 http://archive.ubuntu.com/ubuntu bionic/main amd64 libarchive-cpio-perl all 0.10-1 [9,644 B]\n",
            "Get:60 http://archive.ubuntu.com/ubuntu bionic/main amd64 libbz2-dev amd64 1.0.6-8.1 [29.5 kB]\n",
            "Get:61 http://archive.ubuntu.com/ubuntu bionic/main amd64 libdata-dump-perl all 1.23-1 [27.0 kB]\n",
            "Get:62 http://archive.ubuntu.com/ubuntu bionic/main amd64 libipc-system-simple-perl all 1.25-4 [22.5 kB]\n",
            "Get:63 http://archive.ubuntu.com/ubuntu bionic/main amd64 libfile-basedir-perl all 0.07-1 [16.9 kB]\n",
            "Get:64 http://archive.ubuntu.com/ubuntu bionic/main amd64 libfile-desktopentry-perl all 0.22-1 [18.2 kB]\n",
            "Get:65 http://archive.ubuntu.com/ubuntu bionic/main amd64 libfile-mimeinfo-perl all 0.28-1 [41.4 kB]\n",
            "Get:66 http://archive.ubuntu.com/ubuntu bionic/main amd64 libfont-afm-perl all 1.20-2 [13.2 kB]\n",
            "Get:67 http://archive.ubuntu.com/ubuntu bionic/main amd64 libhtml-form-perl all 6.03-1 [23.5 kB]\n",
            "Get:68 http://archive.ubuntu.com/ubuntu bionic/main amd64 libhtml-format-perl all 2.12-1 [41.3 kB]\n",
            "Get:69 http://archive.ubuntu.com/ubuntu bionic/main amd64 libhttp-daemon-perl all 6.01-1 [17.0 kB]\n",
            "Get:70 http://archive.ubuntu.com/ubuntu bionic/main amd64 libsys-hostname-long-perl all 1.5-1 [11.7 kB]\n",
            "Get:71 http://archive.ubuntu.com/ubuntu bionic/main amd64 libmail-sendmail-perl all 0.80-1 [22.6 kB]\n",
            "Get:72 http://archive.ubuntu.com/ubuntu bionic/main amd64 libnet-smtp-ssl-perl all 1.04-1 [5,948 B]\n",
            "Get:73 http://archive.ubuntu.com/ubuntu bionic/main amd64 libmailtools-perl all 2.18-1 [74.0 kB]\n",
            "Get:74 http://archive.ubuntu.com/ubuntu bionic/main amd64 libxml-twig-perl all 1:3.50-1 [156 kB]\n",
            "Get:75 http://archive.ubuntu.com/ubuntu bionic/main amd64 libnet-dbus-perl amd64 1.1.0-4build2 [176 kB]\n",
            "Get:76 http://archive.ubuntu.com/ubuntu bionic/main amd64 libpaper1 amd64 1.1.24+nmu5ubuntu1 [13.6 kB]\n",
            "Get:77 http://archive.ubuntu.com/ubuntu bionic/main amd64 libpaper-utils amd64 1.1.24+nmu5ubuntu1 [8,170 B]\n",
            "Get:78 http://archive.ubuntu.com/ubuntu bionic/main amd64 libreadline-dev amd64 7.0-3 [133 kB]\n",
            "Get:79 http://archive.ubuntu.com/ubuntu bionic/main amd64 libtie-ixhash-perl all 1.23-2 [11.2 kB]\n",
            "Get:80 http://archive.ubuntu.com/ubuntu bionic/main amd64 libx11-protocol-perl all 0.56-7 [149 kB]\n",
            "Get:81 http://archive.ubuntu.com/ubuntu bionic/main amd64 libxml-xpathengine-perl all 0.14-1 [31.8 kB]\n",
            "Get:82 http://archive.ubuntu.com/ubuntu bionic-updates/main amd64 xdg-utils all 1.1.2-1ubuntu2.3 [60.7 kB]\n",
            "Get:83 http://archive.ubuntu.com/ubuntu bionic/universe amd64 r-base-core amd64 3.4.4-1ubuntu1 [23.2 MB]\n",
            "Get:84 http://archive.ubuntu.com/ubuntu bionic/universe amd64 r-cran-boot all 1.3-20-1.1 [613 kB]\n",
            "Get:85 http://archive.ubuntu.com/ubuntu bionic/universe amd64 r-cran-cluster amd64 2.0.6-2build1 [502 kB]\n",
            "Get:86 http://archive.ubuntu.com/ubuntu bionic/universe amd64 r-cran-foreign amd64 0.8.69-1build1 [228 kB]\n",
            "Get:87 http://archive.ubuntu.com/ubuntu bionic/universe amd64 r-cran-mass amd64 7.3-49-1 [1,100 kB]\n",
            "Get:88 http://archive.ubuntu.com/ubuntu bionic/universe amd64 r-cran-kernsmooth amd64 2.23-15-3build1 [89.4 kB]\n",
            "Get:89 http://archive.ubuntu.com/ubuntu bionic/universe amd64 r-cran-lattice amd64 0.20-35-1build1 [713 kB]\n",
            "Get:90 http://archive.ubuntu.com/ubuntu bionic/universe amd64 r-cran-nlme amd64 3.1.131-3build1 [2,186 kB]\n",
            "Get:91 http://archive.ubuntu.com/ubuntu bionic/universe amd64 r-cran-matrix amd64 1.2-12-1 [2,334 kB]\n",
            "Get:92 http://archive.ubuntu.com/ubuntu bionic/universe amd64 r-cran-mgcv amd64 1.8-23-1 [2,496 kB]\n",
            "Get:93 http://archive.ubuntu.com/ubuntu bionic/universe amd64 r-cran-survival amd64 2.41-3-2build1 [5,156 kB]\n",
            "Get:94 http://archive.ubuntu.com/ubuntu bionic/universe amd64 r-cran-rpart amd64 4.1-13-1 [878 kB]\n",
            "Get:95 http://archive.ubuntu.com/ubuntu bionic/universe amd64 r-cran-class amd64 7.3-14-2build1 [85.9 kB]\n",
            "Get:96 http://archive.ubuntu.com/ubuntu bionic/universe amd64 r-cran-nnet amd64 7.3-12-2build1 [110 kB]\n",
            "Get:97 http://archive.ubuntu.com/ubuntu bionic/universe amd64 r-cran-spatial amd64 7.3-11-2build1 [127 kB]\n",
            "Get:98 http://archive.ubuntu.com/ubuntu bionic/universe amd64 r-cran-codetools all 0.2-15-1.1 [46.1 kB]\n",
            "Get:99 http://archive.ubuntu.com/ubuntu bionic/universe amd64 r-recommended all 3.4.4-1ubuntu1 [2,820 B]\n",
            "Get:100 http://archive.ubuntu.com/ubuntu bionic/universe amd64 r-base all 3.4.4-1ubuntu1 [9,312 B]\n",
            "Get:101 http://archive.ubuntu.com/ubuntu bionic/universe amd64 r-base-dev all 3.4.4-1ubuntu1 [4,532 B]\n",
            "Get:102 http://archive.ubuntu.com/ubuntu bionic/universe amd64 r-doc-html all 3.4.4-1ubuntu1 [527 kB]\n",
            "Get:103 http://archive.ubuntu.com/ubuntu bionic/main amd64 x11-utils amd64 7.7+3build1 [196 kB]\n",
            "Get:104 http://archive.ubuntu.com/ubuntu bionic/main amd64 x11-xserver-utils amd64 7.7+7build1 [159 kB]\n",
            "Get:105 http://archive.ubuntu.com/ubuntu bionic/main amd64 libauthen-sasl-perl all 2.1600-1 [48.7 kB]\n",
            "Get:106 http://archive.ubuntu.com/ubuntu bionic/universe amd64 r-base-html all 3.4.4-1ubuntu1 [54.8 kB]\n",
            "Fetched 48.5 MB in 12s (4,065 kB/s)\n",
            "Extracting templates from packages: 100%\n",
            "Preconfiguring packages ...\n",
            "Selecting previously unselected package libxxf86dga1:amd64.\n",
            "(Reading database ... 110842 files and directories currently installed.)\n",
            "Preparing to unpack .../000-libxxf86dga1_2%3a1.1.4-1_amd64.deb ...\n",
            "Unpacking libxxf86dga1:amd64 (2:1.1.4-1) ...\n",
            "Selecting previously unselected package libmagic-mgc.\n",
            "Preparing to unpack .../001-libmagic-mgc_1%3a5.32-2ubuntu0.1_amd64.deb ...\n",
            "Unpacking libmagic-mgc (1:5.32-2ubuntu0.1) ...\n",
            "Selecting previously unselected package libmagic1:amd64.\n",
            "Preparing to unpack .../002-libmagic1_1%3a5.32-2ubuntu0.1_amd64.deb ...\n",
            "Unpacking libmagic1:amd64 (1:5.32-2ubuntu0.1) ...\n",
            "Selecting previously unselected package file.\n",
            "Preparing to unpack .../003-file_1%3a5.32-2ubuntu0.1_amd64.deb ...\n",
            "Unpacking file (1:5.32-2ubuntu0.1) ...\n",
            "Selecting previously unselected package libtext-iconv-perl.\n",
            "Preparing to unpack .../004-libtext-iconv-perl_1.7-5build6_amd64.deb ...\n",
            "Unpacking libtext-iconv-perl (1.7-5build6) ...\n",
            "Selecting previously unselected package netbase.\n",
            "Preparing to unpack .../005-netbase_5.4_all.deb ...\n",
            "Unpacking netbase (5.4) ...\n",
            "Selecting previously unselected package gettext-base.\n",
            "Preparing to unpack .../006-gettext-base_0.19.8.1-6ubuntu0.1_amd64.deb ...\n",
            "Unpacking gettext-base (0.19.8.1-6ubuntu0.1) ...\n",
            "Selecting previously unselected package libxmuu1:amd64.\n",
            "Preparing to unpack .../007-libxmuu1_2%3a1.1.2-2_amd64.deb ...\n",
            "Unpacking libxmuu1:amd64 (2:1.1.2-2) ...\n",
            "Selecting previously unselected package xauth.\n",
            "Preparing to unpack .../008-xauth_1%3a1.0.10-1_amd64.deb ...\n",
            "Unpacking xauth (1:1.0.10-1) ...\n",
            "Selecting previously unselected package libsigsegv2:amd64.\n",
            "Preparing to unpack .../009-libsigsegv2_2.12-1_amd64.deb ...\n",
            "Unpacking libsigsegv2:amd64 (2.12-1) ...\n",
            "Selecting previously unselected package m4.\n",
            "Preparing to unpack .../010-m4_1.4.18-1_amd64.deb ...\n",
            "Unpacking m4 (1.4.18-1) ...\n",
            "Selecting previously unselected package autoconf.\n",
            "Preparing to unpack .../011-autoconf_2.69-11_all.deb ...\n",
            "Unpacking autoconf (2.69-11) ...\n",
            "Selecting previously unselected package autotools-dev.\n",
            "Preparing to unpack .../012-autotools-dev_20180224.1_all.deb ...\n",
            "Unpacking autotools-dev (20180224.1) ...\n",
            "Selecting previously unselected package automake.\n",
            "Preparing to unpack .../013-automake_1%3a1.15.1-3ubuntu2_all.deb ...\n",
            "Unpacking automake (1:1.15.1-3ubuntu2) ...\n",
            "Selecting previously unselected package autopoint.\n",
            "Preparing to unpack .../014-autopoint_0.19.8.1-6ubuntu0.1_all.deb ...\n",
            "Unpacking autopoint (0.19.8.1-6ubuntu0.1) ...\n",
            "Selecting previously unselected package bzip2-doc.\n",
            "Preparing to unpack .../015-bzip2-doc_1.0.6-8.1_all.deb ...\n",
            "Unpacking bzip2-doc (1.0.6-8.1) ...\n",
            "Selecting previously unselected package libtool.\n",
            "Preparing to unpack .../016-libtool_2.4.6-2_all.deb ...\n",
            "Unpacking libtool (2.4.6-2) ...\n",
            "Selecting previously unselected package dh-autoreconf.\n",
            "Preparing to unpack .../017-dh-autoreconf_17_all.deb ...\n",
            "Unpacking dh-autoreconf (17) ...\n",
            "Selecting previously unselected package libarchive-zip-perl.\n",
            "Preparing to unpack .../018-libarchive-zip-perl_1.60-1ubuntu0.1_all.deb ...\n",
            "Unpacking libarchive-zip-perl (1.60-1ubuntu0.1) ...\n",
            "Selecting previously unselected package libfile-stripnondeterminism-perl.\n",
            "Preparing to unpack .../019-libfile-stripnondeterminism-perl_0.040-1.1~build1_all.deb ...\n",
            "Unpacking libfile-stripnondeterminism-perl (0.040-1.1~build1) ...\n",
            "Selecting previously unselected package libtimedate-perl.\n",
            "Preparing to unpack .../020-libtimedate-perl_2.3000-2_all.deb ...\n",
            "Unpacking libtimedate-perl (2.3000-2) ...\n",
            "Selecting previously unselected package dh-strip-nondeterminism.\n",
            "Preparing to unpack .../021-dh-strip-nondeterminism_0.040-1.1~build1_all.deb ...\n",
            "Unpacking dh-strip-nondeterminism (0.040-1.1~build1) ...\n",
            "Selecting previously unselected package gettext.\n",
            "Preparing to unpack .../022-gettext_0.19.8.1-6ubuntu0.1_amd64.deb ...\n",
            "Unpacking gettext (0.19.8.1-6ubuntu0.1) ...\n",
            "Selecting previously unselected package intltool-debian.\n",
            "Preparing to unpack .../023-intltool-debian_0.35.0+20060710.4_all.deb ...\n",
            "Unpacking intltool-debian (0.35.0+20060710.4) ...\n",
            "Selecting previously unselected package po-debconf.\n",
            "Preparing to unpack .../024-po-debconf_1.0.20_all.deb ...\n",
            "Unpacking po-debconf (1.0.20) ...\n",
            "Selecting previously unselected package debhelper.\n",
            "Preparing to unpack .../025-debhelper_11.1.6ubuntu2_all.deb ...\n",
            "Unpacking debhelper (11.1.6ubuntu2) ...\n",
            "Selecting previously unselected package liburi-perl.\n",
            "Preparing to unpack .../026-liburi-perl_1.73-1_all.deb ...\n",
            "Unpacking liburi-perl (1.73-1) ...\n",
            "Selecting previously unselected package libencode-locale-perl.\n",
            "Preparing to unpack .../027-libencode-locale-perl_1.05-1_all.deb ...\n",
            "Unpacking libencode-locale-perl (1.05-1) ...\n",
            "Selecting previously unselected package libhttp-date-perl.\n",
            "Preparing to unpack .../028-libhttp-date-perl_6.02-1_all.deb ...\n",
            "Unpacking libhttp-date-perl (6.02-1) ...\n",
            "Selecting previously unselected package libfile-listing-perl.\n",
            "Preparing to unpack .../029-libfile-listing-perl_6.04-1_all.deb ...\n",
            "Unpacking libfile-listing-perl (6.04-1) ...\n",
            "Selecting previously unselected package libhtml-tagset-perl.\n",
            "Preparing to unpack .../030-libhtml-tagset-perl_3.20-3_all.deb ...\n",
            "Unpacking libhtml-tagset-perl (3.20-3) ...\n",
            "Selecting previously unselected package libhtml-parser-perl.\n",
            "Preparing to unpack .../031-libhtml-parser-perl_3.72-3build1_amd64.deb ...\n",
            "Unpacking libhtml-parser-perl (3.72-3build1) ...\n",
            "Selecting previously unselected package libhtml-tree-perl.\n",
            "Preparing to unpack .../032-libhtml-tree-perl_5.07-1_all.deb ...\n",
            "Unpacking libhtml-tree-perl (5.07-1) ...\n",
            "Selecting previously unselected package libio-html-perl.\n",
            "Preparing to unpack .../033-libio-html-perl_1.001-1_all.deb ...\n",
            "Unpacking libio-html-perl (1.001-1) ...\n",
            "Selecting previously unselected package liblwp-mediatypes-perl.\n",
            "Preparing to unpack .../034-liblwp-mediatypes-perl_6.02-1_all.deb ...\n",
            "Unpacking liblwp-mediatypes-perl (6.02-1) ...\n",
            "Selecting previously unselected package libhttp-message-perl.\n",
            "Preparing to unpack .../035-libhttp-message-perl_6.14-1_all.deb ...\n",
            "Unpacking libhttp-message-perl (6.14-1) ...\n",
            "Selecting previously unselected package libhttp-cookies-perl.\n",
            "Preparing to unpack .../036-libhttp-cookies-perl_6.04-1_all.deb ...\n",
            "Unpacking libhttp-cookies-perl (6.04-1) ...\n",
            "Selecting previously unselected package libhttp-negotiate-perl.\n",
            "Preparing to unpack .../037-libhttp-negotiate-perl_6.00-2_all.deb ...\n",
            "Unpacking libhttp-negotiate-perl (6.00-2) ...\n",
            "Selecting previously unselected package perl-openssl-defaults:amd64.\n",
            "Preparing to unpack .../038-perl-openssl-defaults_3build1_amd64.deb ...\n",
            "Unpacking perl-openssl-defaults:amd64 (3build1) ...\n",
            "Selecting previously unselected package libnet-ssleay-perl.\n",
            "Preparing to unpack .../039-libnet-ssleay-perl_1.84-1build1_amd64.deb ...\n",
            "Unpacking libnet-ssleay-perl (1.84-1build1) ...\n",
            "Selecting previously unselected package libio-socket-ssl-perl.\n",
            "Preparing to unpack .../040-libio-socket-ssl-perl_2.056-1_all.deb ...\n",
            "Unpacking libio-socket-ssl-perl (2.056-1) ...\n",
            "Selecting previously unselected package libnet-http-perl.\n",
            "Preparing to unpack .../041-libnet-http-perl_6.17-1_all.deb ...\n",
            "Unpacking libnet-http-perl (6.17-1) ...\n",
            "Selecting previously unselected package liblwp-protocol-https-perl.\n",
            "Preparing to unpack .../042-liblwp-protocol-https-perl_6.07-2_all.deb ...\n",
            "Unpacking liblwp-protocol-https-perl (6.07-2) ...\n",
            "Selecting previously unselected package libtry-tiny-perl.\n",
            "Preparing to unpack .../043-libtry-tiny-perl_0.30-1_all.deb ...\n",
            "Unpacking libtry-tiny-perl (0.30-1) ...\n",
            "Selecting previously unselected package libwww-robotrules-perl.\n",
            "Preparing to unpack .../044-libwww-robotrules-perl_6.01-1_all.deb ...\n",
            "Unpacking libwww-robotrules-perl (6.01-1) ...\n",
            "Selecting previously unselected package libwww-perl.\n",
            "Preparing to unpack .../045-libwww-perl_6.31-1_all.deb ...\n",
            "Unpacking libwww-perl (6.31-1) ...\n",
            "Selecting previously unselected package libxml-parser-perl.\n",
            "Preparing to unpack .../046-libxml-parser-perl_2.44-2build3_amd64.deb ...\n",
            "Unpacking libxml-parser-perl (2.44-2build3) ...\n",
            "Selecting previously unselected package intltool.\n",
            "Preparing to unpack .../047-intltool_0.51.0-5ubuntu1_all.deb ...\n",
            "Unpacking intltool (0.51.0-5ubuntu1) ...\n",
            "Selecting previously unselected package libonig4:amd64.\n",
            "Preparing to unpack .../048-libonig4_6.7.0-1_amd64.deb ...\n",
            "Unpacking libonig4:amd64 (6.7.0-1) ...\n",
            "Selecting previously unselected package libjq1:amd64.\n",
            "Preparing to unpack .../049-libjq1_1.5+dfsg-2_amd64.deb ...\n",
            "Unpacking libjq1:amd64 (1.5+dfsg-2) ...\n",
            "Selecting previously unselected package jq.\n",
            "Preparing to unpack .../050-jq_1.5+dfsg-2_amd64.deb ...\n",
            "Unpacking jq (1.5+dfsg-2) ...\n",
            "Selecting previously unselected package libfile-which-perl.\n",
            "Preparing to unpack .../051-libfile-which-perl_1.21-1_all.deb ...\n",
            "Unpacking libfile-which-perl (1.21-1) ...\n",
            "Selecting previously unselected package dh-translations.\n",
            "Preparing to unpack .../052-dh-translations_138.18.04.0_all.deb ...\n",
            "Unpacking dh-translations (138.18.04.0) ...\n",
            "Selecting previously unselected package python3-six.\n",
            "Preparing to unpack .../053-python3-six_1.11.0-2_all.deb ...\n",
            "Unpacking python3-six (1.11.0-2) ...\n",
            "Selecting previously unselected package python3-pkg-resources.\n",
            "Preparing to unpack .../054-python3-pkg-resources_39.0.1-2_all.deb ...\n",
            "Unpacking python3-pkg-resources (39.0.1-2) ...\n",
            "Selecting previously unselected package python3-scour.\n",
            "Preparing to unpack .../055-python3-scour_0.36-2_all.deb ...\n",
            "Unpacking python3-scour (0.36-2) ...\n",
            "Selecting previously unselected package scour.\n",
            "Preparing to unpack .../056-scour_0.36-2_all.deb ...\n",
            "Unpacking scour (0.36-2) ...\n",
            "Selecting previously unselected package cdbs.\n",
            "Preparing to unpack .../057-cdbs_0.4.156ubuntu4_all.deb ...\n",
            "Unpacking cdbs (0.4.156ubuntu4) ...\n",
            "Selecting previously unselected package libarchive-cpio-perl.\n",
            "Preparing to unpack .../058-libarchive-cpio-perl_0.10-1_all.deb ...\n",
            "Unpacking libarchive-cpio-perl (0.10-1) ...\n",
            "Selecting previously unselected package libbz2-dev:amd64.\n",
            "Preparing to unpack .../059-libbz2-dev_1.0.6-8.1_amd64.deb ...\n",
            "Unpacking libbz2-dev:amd64 (1.0.6-8.1) ...\n",
            "Selecting previously unselected package libdata-dump-perl.\n",
            "Preparing to unpack .../060-libdata-dump-perl_1.23-1_all.deb ...\n",
            "Unpacking libdata-dump-perl (1.23-1) ...\n",
            "Selecting previously unselected package libipc-system-simple-perl.\n",
            "Preparing to unpack .../061-libipc-system-simple-perl_1.25-4_all.deb ...\n",
            "Unpacking libipc-system-simple-perl (1.25-4) ...\n",
            "Selecting previously unselected package libfile-basedir-perl.\n",
            "Preparing to unpack .../062-libfile-basedir-perl_0.07-1_all.deb ...\n",
            "Unpacking libfile-basedir-perl (0.07-1) ...\n",
            "Selecting previously unselected package libfile-desktopentry-perl.\n",
            "Preparing to unpack .../063-libfile-desktopentry-perl_0.22-1_all.deb ...\n",
            "Unpacking libfile-desktopentry-perl (0.22-1) ...\n",
            "Selecting previously unselected package libfile-mimeinfo-perl.\n",
            "Preparing to unpack .../064-libfile-mimeinfo-perl_0.28-1_all.deb ...\n",
            "Unpacking libfile-mimeinfo-perl (0.28-1) ...\n",
            "Selecting previously unselected package libfont-afm-perl.\n",
            "Preparing to unpack .../065-libfont-afm-perl_1.20-2_all.deb ...\n",
            "Unpacking libfont-afm-perl (1.20-2) ...\n",
            "Selecting previously unselected package libhtml-form-perl.\n",
            "Preparing to unpack .../066-libhtml-form-perl_6.03-1_all.deb ...\n",
            "Unpacking libhtml-form-perl (6.03-1) ...\n",
            "Selecting previously unselected package libhtml-format-perl.\n",
            "Preparing to unpack .../067-libhtml-format-perl_2.12-1_all.deb ...\n",
            "Unpacking libhtml-format-perl (2.12-1) ...\n",
            "Selecting previously unselected package libhttp-daemon-perl.\n",
            "Preparing to unpack .../068-libhttp-daemon-perl_6.01-1_all.deb ...\n",
            "Unpacking libhttp-daemon-perl (6.01-1) ...\n",
            "Selecting previously unselected package libsys-hostname-long-perl.\n",
            "Preparing to unpack .../069-libsys-hostname-long-perl_1.5-1_all.deb ...\n",
            "Unpacking libsys-hostname-long-perl (1.5-1) ...\n",
            "Selecting previously unselected package libmail-sendmail-perl.\n",
            "Preparing to unpack .../070-libmail-sendmail-perl_0.80-1_all.deb ...\n",
            "Unpacking libmail-sendmail-perl (0.80-1) ...\n",
            "Selecting previously unselected package libnet-smtp-ssl-perl.\n",
            "Preparing to unpack .../071-libnet-smtp-ssl-perl_1.04-1_all.deb ...\n",
            "Unpacking libnet-smtp-ssl-perl (1.04-1) ...\n",
            "Selecting previously unselected package libmailtools-perl.\n",
            "Preparing to unpack .../072-libmailtools-perl_2.18-1_all.deb ...\n",
            "Unpacking libmailtools-perl (2.18-1) ...\n",
            "Selecting previously unselected package libxml-twig-perl.\n",
            "Preparing to unpack .../073-libxml-twig-perl_1%3a3.50-1_all.deb ...\n",
            "Unpacking libxml-twig-perl (1:3.50-1) ...\n",
            "Selecting previously unselected package libnet-dbus-perl.\n",
            "Preparing to unpack .../074-libnet-dbus-perl_1.1.0-4build2_amd64.deb ...\n",
            "Unpacking libnet-dbus-perl (1.1.0-4build2) ...\n",
            "Selecting previously unselected package libpaper1:amd64.\n",
            "Preparing to unpack .../075-libpaper1_1.1.24+nmu5ubuntu1_amd64.deb ...\n",
            "Unpacking libpaper1:amd64 (1.1.24+nmu5ubuntu1) ...\n",
            "Selecting previously unselected package libpaper-utils.\n",
            "Preparing to unpack .../076-libpaper-utils_1.1.24+nmu5ubuntu1_amd64.deb ...\n",
            "Unpacking libpaper-utils (1.1.24+nmu5ubuntu1) ...\n",
            "Selecting previously unselected package libreadline-dev:amd64.\n",
            "Preparing to unpack .../077-libreadline-dev_7.0-3_amd64.deb ...\n",
            "Unpacking libreadline-dev:amd64 (7.0-3) ...\n",
            "Selecting previously unselected package libtie-ixhash-perl.\n",
            "Preparing to unpack .../078-libtie-ixhash-perl_1.23-2_all.deb ...\n",
            "Unpacking libtie-ixhash-perl (1.23-2) ...\n",
            "Selecting previously unselected package libx11-protocol-perl.\n",
            "Preparing to unpack .../079-libx11-protocol-perl_0.56-7_all.deb ...\n",
            "Unpacking libx11-protocol-perl (0.56-7) ...\n",
            "Selecting previously unselected package libxml-xpathengine-perl.\n",
            "Preparing to unpack .../080-libxml-xpathengine-perl_0.14-1_all.deb ...\n",
            "Unpacking libxml-xpathengine-perl (0.14-1) ...\n",
            "Selecting previously unselected package xdg-utils.\n",
            "Preparing to unpack .../081-xdg-utils_1.1.2-1ubuntu2.3_all.deb ...\n",
            "Unpacking xdg-utils (1.1.2-1ubuntu2.3) ...\n",
            "Selecting previously unselected package r-base-core.\n",
            "Preparing to unpack .../082-r-base-core_3.4.4-1ubuntu1_amd64.deb ...\n",
            "Unpacking r-base-core (3.4.4-1ubuntu1) ...\n",
            "Selecting previously unselected package r-cran-boot.\n",
            "Preparing to unpack .../083-r-cran-boot_1.3-20-1.1_all.deb ...\n",
            "Unpacking r-cran-boot (1.3-20-1.1) ...\n",
            "Selecting previously unselected package r-cran-cluster.\n",
            "Preparing to unpack .../084-r-cran-cluster_2.0.6-2build1_amd64.deb ...\n",
            "Unpacking r-cran-cluster (2.0.6-2build1) ...\n",
            "Selecting previously unselected package r-cran-foreign.\n",
            "Preparing to unpack .../085-r-cran-foreign_0.8.69-1build1_amd64.deb ...\n",
            "Unpacking r-cran-foreign (0.8.69-1build1) ...\n",
            "Selecting previously unselected package r-cran-mass.\n",
            "Preparing to unpack .../086-r-cran-mass_7.3-49-1_amd64.deb ...\n",
            "Unpacking r-cran-mass (7.3-49-1) ...\n",
            "Selecting previously unselected package r-cran-kernsmooth.\n",
            "Preparing to unpack .../087-r-cran-kernsmooth_2.23-15-3build1_amd64.deb ...\n",
            "Unpacking r-cran-kernsmooth (2.23-15-3build1) ...\n",
            "Selecting previously unselected package r-cran-lattice.\n",
            "Preparing to unpack .../088-r-cran-lattice_0.20-35-1build1_amd64.deb ...\n",
            "Unpacking r-cran-lattice (0.20-35-1build1) ...\n",
            "Selecting previously unselected package r-cran-nlme.\n",
            "Preparing to unpack .../089-r-cran-nlme_3.1.131-3build1_amd64.deb ...\n",
            "Unpacking r-cran-nlme (3.1.131-3build1) ...\n",
            "Selecting previously unselected package r-cran-matrix.\n",
            "Preparing to unpack .../090-r-cran-matrix_1.2-12-1_amd64.deb ...\n",
            "Unpacking r-cran-matrix (1.2-12-1) ...\n",
            "Selecting previously unselected package r-cran-mgcv.\n",
            "Preparing to unpack .../091-r-cran-mgcv_1.8-23-1_amd64.deb ...\n",
            "Unpacking r-cran-mgcv (1.8-23-1) ...\n",
            "Selecting previously unselected package r-cran-survival.\n",
            "Preparing to unpack .../092-r-cran-survival_2.41-3-2build1_amd64.deb ...\n",
            "Unpacking r-cran-survival (2.41-3-2build1) ...\n",
            "Selecting previously unselected package r-cran-rpart.\n",
            "Preparing to unpack .../093-r-cran-rpart_4.1-13-1_amd64.deb ...\n",
            "Unpacking r-cran-rpart (4.1-13-1) ...\n",
            "Selecting previously unselected package r-cran-class.\n",
            "Preparing to unpack .../094-r-cran-class_7.3-14-2build1_amd64.deb ...\n",
            "Unpacking r-cran-class (7.3-14-2build1) ...\n",
            "Selecting previously unselected package r-cran-nnet.\n",
            "Preparing to unpack .../095-r-cran-nnet_7.3-12-2build1_amd64.deb ...\n",
            "Unpacking r-cran-nnet (7.3-12-2build1) ...\n",
            "Selecting previously unselected package r-cran-spatial.\n",
            "Preparing to unpack .../096-r-cran-spatial_7.3-11-2build1_amd64.deb ...\n",
            "Unpacking r-cran-spatial (7.3-11-2build1) ...\n",
            "Selecting previously unselected package r-cran-codetools.\n",
            "Preparing to unpack .../097-r-cran-codetools_0.2-15-1.1_all.deb ...\n",
            "Unpacking r-cran-codetools (0.2-15-1.1) ...\n",
            "Selecting previously unselected package r-recommended.\n",
            "Preparing to unpack .../098-r-recommended_3.4.4-1ubuntu1_all.deb ...\n",
            "Unpacking r-recommended (3.4.4-1ubuntu1) ...\n",
            "Selecting previously unselected package r-base.\n",
            "Preparing to unpack .../099-r-base_3.4.4-1ubuntu1_all.deb ...\n",
            "Unpacking r-base (3.4.4-1ubuntu1) ...\n",
            "Selecting previously unselected package r-base-dev.\n",
            "Preparing to unpack .../100-r-base-dev_3.4.4-1ubuntu1_all.deb ...\n",
            "Unpacking r-base-dev (3.4.4-1ubuntu1) ...\n",
            "Selecting previously unselected package r-doc-html.\n",
            "Preparing to unpack .../101-r-doc-html_3.4.4-1ubuntu1_all.deb ...\n",
            "Unpacking r-doc-html (3.4.4-1ubuntu1) ...\n",
            "Selecting previously unselected package x11-utils.\n",
            "Preparing to unpack .../102-x11-utils_7.7+3build1_amd64.deb ...\n",
            "Unpacking x11-utils (7.7+3build1) ...\n",
            "Selecting previously unselected package x11-xserver-utils.\n",
            "Preparing to unpack .../103-x11-xserver-utils_7.7+7build1_amd64.deb ...\n",
            "Unpacking x11-xserver-utils (7.7+7build1) ...\n",
            "Selecting previously unselected package libauthen-sasl-perl.\n",
            "Preparing to unpack .../104-libauthen-sasl-perl_2.1600-1_all.deb ...\n",
            "Unpacking libauthen-sasl-perl (2.1600-1) ...\n",
            "Selecting previously unselected package r-base-html.\n",
            "Preparing to unpack .../105-r-base-html_3.4.4-1ubuntu1_all.deb ...\n",
            "Unpacking r-base-html (3.4.4-1ubuntu1) ...\n",
            "Setting up libhtml-tagset-perl (3.20-3) ...\n",
            "Setting up libpaper1:amd64 (1.1.24+nmu5ubuntu1) ...\n",
            "\n",
            "Creating config file /etc/papersize with new version\n",
            "Setting up libtry-tiny-perl (0.30-1) ...\n",
            "Setting up libpaper-utils (1.1.24+nmu5ubuntu1) ...\n",
            "Setting up libfont-afm-perl (1.20-2) ...\n",
            "Setting up libbz2-dev:amd64 (1.0.6-8.1) ...\n",
            "Setting up libarchive-zip-perl (1.60-1ubuntu0.1) ...\n",
            "Processing triggers for mime-support (3.60ubuntu1) ...\n",
            "Setting up libfile-which-perl (1.21-1) ...\n",
            "Setting up libencode-locale-perl (1.05-1) ...\n",
            "Setting up libtimedate-perl (2.3000-2) ...\n",
            "Setting up libsigsegv2:amd64 (2.12-1) ...\n",
            "Setting up perl-openssl-defaults:amd64 (3build1) ...\n",
            "Setting up libipc-system-simple-perl (1.25-4) ...\n",
            "Setting up libfile-basedir-perl (0.07-1) ...\n",
            "Setting up libio-html-perl (1.001-1) ...\n",
            "Setting up libonig4:amd64 (6.7.0-1) ...\n",
            "Setting up python3-six (1.11.0-2) ...\n",
            "Setting up libtie-ixhash-perl (1.23-2) ...\n",
            "Setting up libarchive-cpio-perl (0.10-1) ...\n",
            "Setting up gettext-base (0.19.8.1-6ubuntu0.1) ...\n",
            "Setting up m4 (1.4.18-1) ...\n",
            "Setting up python3-pkg-resources (39.0.1-2) ...\n",
            "Setting up libxmuu1:amd64 (2:1.1.2-2) ...\n",
            "Setting up libmagic-mgc (1:5.32-2ubuntu0.1) ...\n",
            "Setting up libmagic1:amd64 (1:5.32-2ubuntu0.1) ...\n",
            "Setting up xauth (1:1.0.10-1) ...\n",
            "Setting up libsys-hostname-long-perl (1.5-1) ...\n",
            "Setting up libjq1:amd64 (1.5+dfsg-2) ...\n",
            "Setting up liblwp-mediatypes-perl (6.02-1) ...\n",
            "Setting up libmail-sendmail-perl (0.80-1) ...\n",
            "Setting up libxxf86dga1:amd64 (2:1.1.4-1) ...\n",
            "Processing triggers for libc-bin (2.27-3ubuntu1) ...\n",
            "Setting up autotools-dev (20180224.1) ...\n",
            "Setting up bzip2-doc (1.0.6-8.1) ...\n",
            "Setting up liburi-perl (1.73-1) ...\n",
            "Setting up libtext-iconv-perl (1.7-5build6) ...\n",
            "Setting up libdata-dump-perl (1.23-1) ...\n",
            "Setting up libhtml-parser-perl (3.72-3build1) ...\n",
            "Setting up libreadline-dev:amd64 (7.0-3) ...\n",
            "Setting up x11-xserver-utils (7.7+7build1) ...\n",
            "Setting up libx11-protocol-perl (0.56-7) ...\n",
            "Setting up libxml-xpathengine-perl (0.14-1) ...\n",
            "Processing triggers for man-db (2.8.3-2ubuntu0.1) ...\n",
            "Setting up libnet-http-perl (6.17-1) ...\n",
            "Setting up xdg-utils (1.1.2-1ubuntu2.3) ...\n",
            "Processing triggers for hicolor-icon-theme (0.17-2) ...\n",
            "Setting up libwww-robotrules-perl (6.01-1) ...\n",
            "Setting up libauthen-sasl-perl (2.1600-1) ...\n",
            "Setting up autopoint (0.19.8.1-6ubuntu0.1) ...\n",
            "Setting up r-doc-html (3.4.4-1ubuntu1) ...\n",
            "Setting up netbase (5.4) ...\n",
            "Setting up libfile-stripnondeterminism-perl (0.040-1.1~build1) ...\n",
            "Setting up jq (1.5+dfsg-2) ...\n",
            "Setting up libhttp-date-perl (6.02-1) ...\n",
            "Setting up gettext (0.19.8.1-6ubuntu0.1) ...\n",
            "Setting up libnet-ssleay-perl (1.84-1build1) ...\n",
            "Setting up r-base-core (3.4.4-1ubuntu1) ...\n",
            "\n",
            "Creating config file /etc/R/Renviron with new version\n",
            "Setting up python3-scour (0.36-2) ...\n",
            "Setting up x11-utils (7.7+3build1) ...\n",
            "Setting up scour (0.36-2) ...\n",
            "Setting up r-cran-nnet (7.3-12-2build1) ...\n",
            "Setting up autoconf (2.69-11) ...\n",
            "Setting up file (1:5.32-2ubuntu0.1) ...\n",
            "Setting up libio-socket-ssl-perl (2.056-1) ...\n",
            "Setting up libhtml-tree-perl (5.07-1) ...\n",
            "Setting up intltool-debian (0.35.0+20060710.4) ...\n",
            "Setting up libfile-desktopentry-perl (0.22-1) ...\n",
            "Setting up r-base-html (3.4.4-1ubuntu1) ...\n",
            "Setting up r-cran-spatial (7.3-11-2build1) ...\n",
            "Setting up automake (1:1.15.1-3ubuntu2) ...\n",
            "update-alternatives: using /usr/bin/automake-1.15 to provide /usr/bin/automake (automake) in auto mode\n",
            "Setting up libfile-listing-perl (6.04-1) ...\n",
            "Setting up libhttp-message-perl (6.14-1) ...\n",
            "Setting up r-cran-mass (7.3-49-1) ...\n",
            "Setting up libfile-mimeinfo-perl (0.28-1) ...\n",
            "Setting up r-cran-cluster (2.0.6-2build1) ...\n",
            "Setting up libhttp-negotiate-perl (6.00-2) ...\n",
            "Setting up libtool (2.4.6-2) ...\n",
            "Setting up r-cran-boot (1.3-20-1.1) ...\n",
            "Setting up libnet-smtp-ssl-perl (1.04-1) ...\n",
            "Setting up libhtml-format-perl (2.12-1) ...\n",
            "Setting up r-cran-codetools (0.2-15-1.1) ...\n",
            "Setting up po-debconf (1.0.20) ...\n",
            "Setting up libhttp-cookies-perl (6.04-1) ...\n",
            "Setting up r-cran-lattice (0.20-35-1build1) ...\n",
            "Setting up r-cran-nlme (3.1.131-3build1) ...\n",
            "Setting up r-cran-foreign (0.8.69-1build1) ...\n",
            "Setting up r-cran-class (7.3-14-2build1) ...\n",
            "Setting up r-cran-kernsmooth (2.23-15-3build1) ...\n",
            "Setting up libhttp-daemon-perl (6.01-1) ...\n",
            "Setting up libhtml-form-perl (6.03-1) ...\n",
            "Setting up libmailtools-perl (2.18-1) ...\n",
            "Setting up r-cran-matrix (1.2-12-1) ...\n",
            "Setting up r-cran-mgcv (1.8-23-1) ...\n",
            "Setting up r-cran-survival (2.41-3-2build1) ...\n",
            "Setting up r-cran-rpart (4.1-13-1) ...\n",
            "Setting up r-recommended (3.4.4-1ubuntu1) ...\n",
            "Setting up r-base (3.4.4-1ubuntu1) ...\n",
            "Setting up dh-autoreconf (17) ...\n",
            "Setting up liblwp-protocol-https-perl (6.07-2) ...\n",
            "Setting up dh-strip-nondeterminism (0.040-1.1~build1) ...\n",
            "Setting up libwww-perl (6.31-1) ...\n",
            "Setting up debhelper (11.1.6ubuntu2) ...\n",
            "Setting up libxml-parser-perl (2.44-2build3) ...\n",
            "Setting up libxml-twig-perl (1:3.50-1) ...\n",
            "Setting up intltool (0.51.0-5ubuntu1) ...\n",
            "Setting up dh-translations (138.18.04.0) ...\n",
            "Setting up libnet-dbus-perl (1.1.0-4build2) ...\n",
            "Setting up cdbs (0.4.156ubuntu4) ...\n",
            "Setting up r-base-dev (3.4.4-1ubuntu1) ...\n",
            "Processing triggers for libc-bin (2.27-3ubuntu1) ...\n",
            "Collecting rpy2\n",
            "\u001b[?25l  Downloading https://files.pythonhosted.org/packages/02/d1/074ffbbe7b4bf74c60b75d74c8e67a1e4515b0d85f85cd6540e39610754a/rpy2-2.9.5.tar.gz (194kB)\n",
            "\u001b[K    100% |████████████████████████████████| 194kB 6.7MB/s \n",
            "\u001b[?25hRequirement already satisfied: six in /usr/local/lib/python3.6/dist-packages (from rpy2) (1.11.0)\n",
            "Requirement already satisfied: jinja2 in /usr/local/lib/python3.6/dist-packages (from rpy2) (2.10)\n",
            "Requirement already satisfied: MarkupSafe>=0.23 in /usr/local/lib/python3.6/dist-packages (from jinja2->rpy2) (1.1.0)\n",
            "Building wheels for collected packages: rpy2\n",
            "  Running setup.py bdist_wheel for rpy2 ... \u001b[?25l-\b \b\\\b \b|\b \b/\b \b-\b \b\\\b \b|\b \b/\b \b-\b \bdone\n",
            "\u001b[?25h  Stored in directory: /root/.cache/pip/wheels/9b/28/7e/a7d20210b71aae01e3000db80e60755ba1ef9fa1d15b47ae1f\n",
            "Successfully built rpy2\n",
            "Installing collected packages: rpy2\n",
            "Successfully installed rpy2-2.9.5\n"
          ],
          "name": "stdout"
        }
      ]
    },
    {
      "metadata": {
        "id": "7iAtXIl9cx5g",
        "colab_type": "code",
        "outputId": "f5c6d048-065a-4939-b847-7ea82786b903",
        "colab": {
          "base_uri": "https://localhost:8080/",
          "height": 190
        }
      },
      "cell_type": "code",
      "source": [
        "! pip install tzlocal"
      ],
      "execution_count": 2,
      "outputs": [
        {
          "output_type": "stream",
          "text": [
            "Collecting tzlocal\n",
            "  Downloading https://files.pythonhosted.org/packages/cb/89/e3687d3ed99bc882793f82634e9824e62499fdfdc4b1ae39e211c5b05017/tzlocal-1.5.1.tar.gz\n",
            "Requirement already satisfied: pytz in /usr/local/lib/python3.6/dist-packages (from tzlocal) (2018.7)\n",
            "Building wheels for collected packages: tzlocal\n",
            "  Running setup.py bdist_wheel for tzlocal ... \u001b[?25l-\b \b\\\b \bdone\n",
            "\u001b[?25h  Stored in directory: /root/.cache/pip/wheels/15/ae/df/a67bf1ed84e9bf230187d36d8dcfd30072bea0236cb059ed91\n",
            "Successfully built tzlocal\n",
            "Installing collected packages: tzlocal\n",
            "Successfully installed tzlocal-1.5.1\n"
          ],
          "name": "stdout"
        }
      ]
    },
    {
      "metadata": {
        "id": "vgoZauGXSxAN",
        "colab_type": "code",
        "outputId": "707869bd-c1b1-47a4-b614-40c6e0197f7c",
        "colab": {
          "base_uri": "https://localhost:8080/",
          "height": 1533
        }
      },
      "cell_type": "code",
      "source": [
        "  !curl https://course-v3.fast.ai/setup/colab | bash"
      ],
      "execution_count": 3,
      "outputs": [
        {
          "output_type": "stream",
          "text": [
            "  % Total    % Received % Xferd  Average Speed   Time    Time     Time  Current\n",
            "                                 Dload  Upload   Total   Spent    Left  Speed\n",
            "100   665  100   665    0     0    840      0 --:--:-- --:--:-- --:--:--   839\n",
            "Collecting pillow==4.1.1\n",
            "\u001b[?25l  Downloading https://files.pythonhosted.org/packages/36/e5/88b3d60924a3f8476fa74ec086f5fbaba56dd6cee0d82845f883b6b6dd18/Pillow-4.1.1-cp36-cp36m-manylinux1_x86_64.whl (5.7MB)\n",
            "\u001b[K    100% |████████████████████████████████| 5.7MB 7.1MB/s \n",
            "\u001b[?25hRequirement already satisfied, skipping upgrade: olefile in /usr/local/lib/python3.6/dist-packages (from pillow==4.1.1) (0.46)\n",
            "Installing collected packages: pillow\n",
            "  Found existing installation: Pillow 4.0.0\n",
            "    Uninstalling Pillow-4.0.0:\n",
            "      Successfully uninstalled Pillow-4.0.0\n",
            "Successfully installed pillow-4.1.1\n",
            "Looking in links: https://download.pytorch.org/whl/nightly/cu92/torch_nightly.html\n",
            "Collecting torch_nightly\n",
            "\u001b[?25l  Downloading https://download.pytorch.org/whl/nightly/cu92/torch_nightly-1.0.0.dev20181206-cp36-cp36m-linux_x86_64.whl (576.2MB)\n",
            "\u001b[K    100% |████████████████████████████████| 576.2MB 25kB/s \n",
            "tcmalloc: large alloc 1073750016 bytes == 0x632b6000 @  0x7f052eb8e2a4 0x591a07 0x5b5d56 0x502e9a 0x506859 0x502209 0x502f3d 0x506859 0x504c28 0x502540 0x502f3d 0x506859 0x504c28 0x502540 0x502f3d 0x506859 0x504c28 0x502540 0x502f3d 0x507641 0x502209 0x502f3d 0x506859 0x504c28 0x502540 0x502f3d 0x507641 0x504c28 0x502540 0x502f3d 0x507641\n",
            "\u001b[?25hInstalling collected packages: torch-nightly\n",
            "Successfully installed torch-nightly-1.0.0.dev20181206\n",
            "Cloning into 'course-v3'...\n",
            "remote: Enumerating objects: 2760, done.\u001b[K\n",
            "remote: Total 2760 (delta 0), reused 0 (delta 0), pack-reused 2760\u001b[K\n",
            "Receiving objects: 100% (2760/2760), 105.07 MiB | 10.57 MiB/s, done.\n",
            "Resolving deltas: 100% (1509/1509), done.\n",
            "Collecting fastai\n",
            "\u001b[?25l  Downloading https://files.pythonhosted.org/packages/f5/17/b5ab3f9a44b45661d9eb6e29001fe39c39ebb287ce9a9f1670d07bda0d4d/fastai-1.0.39-py3-none-any.whl (150kB)\n",
            "\u001b[K    100% |████████████████████████████████| 153kB 6.6MB/s \n",
            "\u001b[?25hRequirement already satisfied, skipping upgrade: matplotlib in /usr/local/lib/python3.6/dist-packages (from fastai) (2.1.2)\n",
            "Collecting torch (from fastai)\n",
            "\u001b[?25l  Downloading https://files.pythonhosted.org/packages/7e/60/66415660aa46b23b5e1b72bc762e816736ce8d7260213e22365af51e8f9c/torch-1.0.0-cp36-cp36m-manylinux1_x86_64.whl (591.8MB)\n",
            "\u001b[K    100% |████████████████████████████████| 591.8MB 26kB/s \n",
            "tcmalloc: large alloc 1073750016 bytes == 0x612d4000 @  0x7fda94bb92a4 0x591a07 0x5b5d56 0x502e9a 0x506859 0x502209 0x502f3d 0x506859 0x504c28 0x502540 0x502f3d 0x506859 0x504c28 0x502540 0x502f3d 0x506859 0x504c28 0x502540 0x502f3d 0x507641 0x502209 0x502f3d 0x506859 0x504c28 0x502540 0x502f3d 0x507641 0x504c28 0x502540 0x502f3d 0x507641\n",
            "\u001b[?25hCollecting bottleneck (from fastai)\n",
            "\u001b[?25l  Downloading https://files.pythonhosted.org/packages/05/ae/cedf5323f398ab4e4ff92d6c431a3e1c6a186f9b41ab3e8258dff786a290/Bottleneck-1.2.1.tar.gz (105kB)\n",
            "\u001b[K    100% |████████████████████████████████| 112kB 30.2MB/s \n",
            "\u001b[?25hRequirement already satisfied, skipping upgrade: spacy>=2.0.18 in /usr/local/lib/python3.6/dist-packages (from fastai) (2.0.18)\n",
            "Collecting dataclasses; python_version < \"3.7\" (from fastai)\n",
            "  Downloading https://files.pythonhosted.org/packages/26/2f/1095cdc2868052dd1e64520f7c0d5c8c550ad297e944e641dbf1ffbb9a5d/dataclasses-0.6-py3-none-any.whl\n",
            "Requirement already satisfied, skipping upgrade: numpy>=1.12 in /usr/local/lib/python3.6/dist-packages (from fastai) (1.14.6)\n",
            "Requirement already satisfied, skipping upgrade: pandas in /usr/local/lib/python3.6/dist-packages (from fastai) (0.22.0)\n",
            "Requirement already satisfied, skipping upgrade: Pillow in /usr/local/lib/python3.6/dist-packages (from fastai) (4.1.1)\n",
            "Requirement already satisfied, skipping upgrade: pyyaml in /usr/local/lib/python3.6/dist-packages (from fastai) (3.13)\n",
            "Collecting nvidia-ml-py3 (from fastai)\n",
            "  Downloading https://files.pythonhosted.org/packages/6d/64/cce82bddb80c0b0f5c703bbdafa94bfb69a1c5ad7a79cff00b482468f0d3/nvidia-ml-py3-7.352.0.tar.gz\n",
            "Requirement already satisfied, skipping upgrade: packaging in /usr/local/lib/python3.6/dist-packages (from fastai) (18.0)\n",
            "Collecting torchvision (from fastai)\n",
            "\u001b[?25l  Downloading https://files.pythonhosted.org/packages/ca/0d/f00b2885711e08bd71242ebe7b96561e6f6d01fdb4b9dcf4d37e2e13c5e1/torchvision-0.2.1-py2.py3-none-any.whl (54kB)\n",
            "\u001b[K    100% |████████████████████████████████| 61kB 19.8MB/s \n",
            "\u001b[?25hCollecting typing (from fastai)\n",
            "  Downloading https://files.pythonhosted.org/packages/4a/bd/eee1157fc2d8514970b345d69cb9975dcd1e42cd7e61146ed841f6e68309/typing-3.6.6-py3-none-any.whl\n",
            "Requirement already satisfied, skipping upgrade: scipy in /usr/local/lib/python3.6/dist-packages (from fastai) (1.1.0)\n",
            "Collecting fastprogress>=0.1.18 (from fastai)\n",
            "  Downloading https://files.pythonhosted.org/packages/78/57/24a5e20f4a357f7f1c90dd5250071951c832b2480fd4fefd7be48edf4180/fastprogress-0.1.18-py3-none-any.whl\n",
            "Requirement already satisfied, skipping upgrade: numexpr in /usr/local/lib/python3.6/dist-packages (from fastai) (2.6.8)\n",
            "Requirement already satisfied, skipping upgrade: requests in /usr/local/lib/python3.6/dist-packages (from fastai) (2.18.4)\n",
            "Requirement already satisfied, skipping upgrade: python-dateutil>=2.1 in /usr/local/lib/python3.6/dist-packages (from matplotlib->fastai) (2.5.3)\n",
            "Requirement already satisfied, skipping upgrade: six>=1.10 in /usr/local/lib/python3.6/dist-packages (from matplotlib->fastai) (1.11.0)\n",
            "Requirement already satisfied, skipping upgrade: pyparsing!=2.0.4,!=2.1.2,!=2.1.6,>=2.0.1 in /usr/local/lib/python3.6/dist-packages (from matplotlib->fastai) (2.3.0)\n",
            "Requirement already satisfied, skipping upgrade: cycler>=0.10 in /usr/local/lib/python3.6/dist-packages (from matplotlib->fastai) (0.10.0)\n",
            "Requirement already satisfied, skipping upgrade: pytz in /usr/local/lib/python3.6/dist-packages (from matplotlib->fastai) (2018.7)\n",
            "Requirement already satisfied, skipping upgrade: cymem<2.1.0,>=2.0.2 in /usr/local/lib/python3.6/dist-packages (from spacy>=2.0.18->fastai) (2.0.2)\n",
            "Requirement already satisfied, skipping upgrade: murmurhash<1.1.0,>=0.28.0 in /usr/local/lib/python3.6/dist-packages (from spacy>=2.0.18->fastai) (1.0.1)\n",
            "Requirement already satisfied, skipping upgrade: thinc<6.13.0,>=6.12.1 in /usr/local/lib/python3.6/dist-packages (from spacy>=2.0.18->fastai) (6.12.1)\n",
            "Requirement already satisfied, skipping upgrade: plac<1.0.0,>=0.9.6 in /usr/local/lib/python3.6/dist-packages (from spacy>=2.0.18->fastai) (0.9.6)\n",
            "Requirement already satisfied, skipping upgrade: dill<0.3,>=0.2 in /usr/local/lib/python3.6/dist-packages (from spacy>=2.0.18->fastai) (0.2.8.2)\n",
            "Requirement already satisfied, skipping upgrade: regex==2018.01.10 in /usr/local/lib/python3.6/dist-packages (from spacy>=2.0.18->fastai) (2018.1.10)\n",
            "Requirement already satisfied, skipping upgrade: preshed<2.1.0,>=2.0.1 in /usr/local/lib/python3.6/dist-packages (from spacy>=2.0.18->fastai) (2.0.1)\n",
            "Requirement already satisfied, skipping upgrade: ujson>=1.35 in /usr/local/lib/python3.6/dist-packages (from spacy>=2.0.18->fastai) (1.35)\n",
            "Requirement already satisfied, skipping upgrade: olefile in /usr/local/lib/python3.6/dist-packages (from Pillow->fastai) (0.46)\n",
            "Requirement already satisfied, skipping upgrade: idna<2.7,>=2.5 in /usr/local/lib/python3.6/dist-packages (from requests->fastai) (2.6)\n",
            "Requirement already satisfied, skipping upgrade: chardet<3.1.0,>=3.0.2 in /usr/local/lib/python3.6/dist-packages (from requests->fastai) (3.0.4)\n",
            "Requirement already satisfied, skipping upgrade: urllib3<1.23,>=1.21.1 in /usr/local/lib/python3.6/dist-packages (from requests->fastai) (1.22)\n",
            "Requirement already satisfied, skipping upgrade: certifi>=2017.4.17 in /usr/local/lib/python3.6/dist-packages (from requests->fastai) (2018.11.29)\n",
            "Requirement already satisfied, skipping upgrade: msgpack<0.6.0,>=0.5.6 in /usr/local/lib/python3.6/dist-packages (from thinc<6.13.0,>=6.12.1->spacy>=2.0.18->fastai) (0.5.6)\n",
            "Requirement already satisfied, skipping upgrade: cytoolz<0.10,>=0.9.0 in /usr/local/lib/python3.6/dist-packages (from thinc<6.13.0,>=6.12.1->spacy>=2.0.18->fastai) (0.9.0.1)\n",
            "Requirement already satisfied, skipping upgrade: wrapt<1.11.0,>=1.10.0 in /usr/local/lib/python3.6/dist-packages (from thinc<6.13.0,>=6.12.1->spacy>=2.0.18->fastai) (1.10.11)\n",
            "Requirement already satisfied, skipping upgrade: msgpack-numpy<0.4.4 in /usr/local/lib/python3.6/dist-packages (from thinc<6.13.0,>=6.12.1->spacy>=2.0.18->fastai) (0.4.3.2)\n",
            "Requirement already satisfied, skipping upgrade: tqdm<5.0.0,>=4.10.0 in /usr/local/lib/python3.6/dist-packages (from thinc<6.13.0,>=6.12.1->spacy>=2.0.18->fastai) (4.28.1)\n",
            "Requirement already satisfied, skipping upgrade: toolz>=0.8.0 in /usr/local/lib/python3.6/dist-packages (from cytoolz<0.10,>=0.9.0->thinc<6.13.0,>=6.12.1->spacy>=2.0.18->fastai) (0.9.0)\n",
            "Building wheels for collected packages: bottleneck, nvidia-ml-py3\n",
            "  Running setup.py bdist_wheel for bottleneck ... \u001b[?25l-\b \b\\\b \b|\b \b/\b \b-\b \b\\\b \b|\b \b/\b \bdone\n",
            "\u001b[?25h  Stored in directory: /root/.cache/pip/wheels/f2/bf/ec/e0f39aa27001525ad455139ee57ec7d0776fe074dfd78c97e4\n",
            "  Running setup.py bdist_wheel for nvidia-ml-py3 ... \u001b[?25l-\b \bdone\n",
            "\u001b[?25h  Stored in directory: /root/.cache/pip/wheels/e4/1d/06/640c93f5270d67d0247f30be91f232700d19023f9e66d735c7\n",
            "Successfully built bottleneck nvidia-ml-py3\n",
            "Installing collected packages: torch, bottleneck, dataclasses, nvidia-ml-py3, torchvision, typing, fastprogress, fastai\n",
            "Successfully installed bottleneck-1.2.1 dataclasses-0.6 fastai-1.0.39 fastprogress-0.1.18 nvidia-ml-py3-7.352.0 torch-1.0.0 torchvision-0.2.1 typing-3.6.6\n",
            "Already up to date.\n"
          ],
          "name": "stdout"
        }
      ]
    },
    {
      "metadata": {
        "id": "IWSAHA-TWcsU",
        "colab_type": "code",
        "outputId": "d187b80e-52e3-4d06-db0c-9945abe0a4b3",
        "colab": {
          "base_uri": "https://localhost:8080/",
          "height": 204
        }
      },
      "cell_type": "code",
      "source": [
        "! wget http://cas.uqam.ca/pub/R/bin/windows/contrib/3.2/CASdatasets_1.0-6.zip"
      ],
      "execution_count": 4,
      "outputs": [
        {
          "output_type": "stream",
          "text": [
            "--2019-01-01 04:09:22--  http://cas.uqam.ca/pub/R/bin/windows/contrib/3.2/CASdatasets_1.0-6.zip\n",
            "Resolving cas.uqam.ca (cas.uqam.ca)... 132.208.138.146\n",
            "Connecting to cas.uqam.ca (cas.uqam.ca)|132.208.138.146|:80... connected.\n",
            "HTTP request sent, awaiting response... 200 OK\n",
            "Length: 99795419 (95M) [application/zip]\n",
            "Saving to: ‘CASdatasets_1.0-6.zip’\n",
            "\n",
            "CASdatasets_1.0-6.z 100%[===================>]  95.17M  5.44MB/s    in 20s     \n",
            "\n",
            "2019-01-01 04:09:43 (4.81 MB/s) - ‘CASdatasets_1.0-6.zip’ saved [99795419/99795419]\n",
            "\n"
          ],
          "name": "stdout"
        }
      ]
    },
    {
      "metadata": {
        "id": "Wi8aMaX_bQmj",
        "colab_type": "code",
        "colab": {}
      },
      "cell_type": "code",
      "source": [
        "import zipfile\n",
        "with zipfile.ZipFile('CASdatasets_1.0-6.zip', 'r') as zip_ref:\n",
        "    zip_ref.extractall()\n",
        "    "
      ],
      "execution_count": 0,
      "outputs": []
    },
    {
      "metadata": {
        "id": "fSCHrdmSbaaM",
        "colab_type": "code",
        "outputId": "cdb966e3-8b22-429c-ad83-6c73b61365ab",
        "colab": {
          "base_uri": "https://localhost:8080/",
          "height": 34
        }
      },
      "cell_type": "code",
      "source": [
        "! ls"
      ],
      "execution_count": 6,
      "outputs": [
        {
          "output_type": "stream",
          "text": [
            "CASdatasets  CASdatasets_1.0-6.zip  course-v3  data  models\n"
          ],
          "name": "stdout"
        }
      ]
    },
    {
      "metadata": {
        "id": "ZPXYmlPBba9q",
        "colab_type": "code",
        "outputId": "077123cb-6361-4834-a3a2-8ae88646690b",
        "colab": {
          "base_uri": "https://localhost:8080/",
          "height": 34
        }
      },
      "cell_type": "code",
      "source": [
        "import rpy2.robjects as robjects\n",
        "from rpy2.robjects import pandas2ri\n",
        "from rpy2.robjects.packages import importr\n",
        "pandas2ri.activate()\n",
        "\n",
        "! ls CASdatasets//data//freMTPL2freq.rda\t"
      ],
      "execution_count": 7,
      "outputs": [
        {
          "output_type": "stream",
          "text": [
            "CASdatasets//data//freMTPL2freq.rda\n"
          ],
          "name": "stdout"
        }
      ]
    },
    {
      "metadata": {
        "id": "N0xtlFSubtUS",
        "colab_type": "code",
        "outputId": "68845034-3535-4c2a-cbc7-657b969ce203",
        "colab": {
          "base_uri": "https://localhost:8080/",
          "height": 238
        }
      },
      "cell_type": "code",
      "source": [
        "base = importr('base')\n",
        "base.load('.//CASdatasets//data//freMTPL2freq.rda')    \n",
        "rdf_List = base.mget(base.ls())\n",
        "\n",
        "# ITERATE THROUGH LIST OF R DFs \n",
        "pydf_dict = {}\n",
        "\n",
        "for i,f in enumerate(base.names(rdf_List)):\n",
        "    pydf_dict[f] = pandas2ri.ri2py_dataframe(rdf_List[i])\n",
        "\n",
        "for k,v in pydf_dict.items():\n",
        "    print(v.head())"
      ],
      "execution_count": 8,
      "outputs": [
        {
          "output_type": "stream",
          "text": [
            "   IDpol  ClaimNb  Exposure Area  VehPower  VehAge  DrivAge  BonusMalus  \\\n",
            "0    1.0      1.0      0.10    D         5       0       55          50   \n",
            "1    3.0      1.0      0.77    D         5       0       55          50   \n",
            "2    5.0      1.0      0.75    B         6       2       52          50   \n",
            "3   10.0      1.0      0.09    B         7       0       46          50   \n",
            "4   11.0      1.0      0.84    B         7       0       46          50   \n",
            "\n",
            "  VehBrand   VehGas  Density Region  \n",
            "0      B12  Regular     1217    R82  \n",
            "1      B12  Regular     1217    R82  \n",
            "2      B12   Diesel       54    R22  \n",
            "3      B12   Diesel       76    R72  \n",
            "4      B12   Diesel       76    R72  \n"
          ],
          "name": "stdout"
        }
      ]
    },
    {
      "metadata": {
        "id": "g-5_sxbYdh5m",
        "colab_type": "code",
        "colab": {}
      },
      "cell_type": "code",
      "source": [
        "freMTPL2freq = pydf_dict['freMTPL2freq'].copy()"
      ],
      "execution_count": 0,
      "outputs": []
    },
    {
      "metadata": {
        "id": "gbTtFGgtfTaW",
        "colab_type": "text"
      },
      "cell_type": "markdown",
      "source": [
        "# Run the Fast.AI Tabular Learner"
      ]
    },
    {
      "metadata": {
        "id": "n5knpME-cn_k",
        "colab_type": "code",
        "outputId": "685073e9-b766-4939-c224-d048bbb8f2e9",
        "colab": {
          "base_uri": "https://localhost:8080/",
          "height": 204
        }
      },
      "cell_type": "code",
      "source": [
        "freMTPL2freq.head(5)"
      ],
      "execution_count": 13,
      "outputs": [
        {
          "output_type": "execute_result",
          "data": {
            "text/html": [
              "<div>\n",
              "<style scoped>\n",
              "    .dataframe tbody tr th:only-of-type {\n",
              "        vertical-align: middle;\n",
              "    }\n",
              "\n",
              "    .dataframe tbody tr th {\n",
              "        vertical-align: top;\n",
              "    }\n",
              "\n",
              "    .dataframe thead th {\n",
              "        text-align: right;\n",
              "    }\n",
              "</style>\n",
              "<table border=\"1\" class=\"dataframe\">\n",
              "  <thead>\n",
              "    <tr style=\"text-align: right;\">\n",
              "      <th></th>\n",
              "      <th>IDpol</th>\n",
              "      <th>ClaimNb</th>\n",
              "      <th>Exposure</th>\n",
              "      <th>Area</th>\n",
              "      <th>VehPower</th>\n",
              "      <th>VehAge</th>\n",
              "      <th>DrivAge</th>\n",
              "      <th>BonusMalus</th>\n",
              "      <th>VehBrand</th>\n",
              "      <th>VehGas</th>\n",
              "      <th>Density</th>\n",
              "      <th>Region</th>\n",
              "    </tr>\n",
              "  </thead>\n",
              "  <tbody>\n",
              "    <tr>\n",
              "      <th>0</th>\n",
              "      <td>1.0</td>\n",
              "      <td>1.0</td>\n",
              "      <td>0.10</td>\n",
              "      <td>D</td>\n",
              "      <td>5</td>\n",
              "      <td>0</td>\n",
              "      <td>55</td>\n",
              "      <td>50</td>\n",
              "      <td>B12</td>\n",
              "      <td>Regular</td>\n",
              "      <td>1217</td>\n",
              "      <td>R82</td>\n",
              "    </tr>\n",
              "    <tr>\n",
              "      <th>1</th>\n",
              "      <td>3.0</td>\n",
              "      <td>1.0</td>\n",
              "      <td>0.77</td>\n",
              "      <td>D</td>\n",
              "      <td>5</td>\n",
              "      <td>0</td>\n",
              "      <td>55</td>\n",
              "      <td>50</td>\n",
              "      <td>B12</td>\n",
              "      <td>Regular</td>\n",
              "      <td>1217</td>\n",
              "      <td>R82</td>\n",
              "    </tr>\n",
              "    <tr>\n",
              "      <th>2</th>\n",
              "      <td>5.0</td>\n",
              "      <td>1.0</td>\n",
              "      <td>0.75</td>\n",
              "      <td>B</td>\n",
              "      <td>6</td>\n",
              "      <td>2</td>\n",
              "      <td>52</td>\n",
              "      <td>50</td>\n",
              "      <td>B12</td>\n",
              "      <td>Diesel</td>\n",
              "      <td>54</td>\n",
              "      <td>R22</td>\n",
              "    </tr>\n",
              "    <tr>\n",
              "      <th>3</th>\n",
              "      <td>10.0</td>\n",
              "      <td>1.0</td>\n",
              "      <td>0.09</td>\n",
              "      <td>B</td>\n",
              "      <td>7</td>\n",
              "      <td>0</td>\n",
              "      <td>46</td>\n",
              "      <td>50</td>\n",
              "      <td>B12</td>\n",
              "      <td>Diesel</td>\n",
              "      <td>76</td>\n",
              "      <td>R72</td>\n",
              "    </tr>\n",
              "    <tr>\n",
              "      <th>4</th>\n",
              "      <td>11.0</td>\n",
              "      <td>1.0</td>\n",
              "      <td>0.84</td>\n",
              "      <td>B</td>\n",
              "      <td>7</td>\n",
              "      <td>0</td>\n",
              "      <td>46</td>\n",
              "      <td>50</td>\n",
              "      <td>B12</td>\n",
              "      <td>Diesel</td>\n",
              "      <td>76</td>\n",
              "      <td>R72</td>\n",
              "    </tr>\n",
              "  </tbody>\n",
              "</table>\n",
              "</div>"
            ],
            "text/plain": [
              "   IDpol  ClaimNb  Exposure Area  VehPower  VehAge  DrivAge  BonusMalus  \\\n",
              "0    1.0      1.0      0.10    D         5       0       55          50   \n",
              "1    3.0      1.0      0.77    D         5       0       55          50   \n",
              "2    5.0      1.0      0.75    B         6       2       52          50   \n",
              "3   10.0      1.0      0.09    B         7       0       46          50   \n",
              "4   11.0      1.0      0.84    B         7       0       46          50   \n",
              "\n",
              "  VehBrand   VehGas  Density Region  \n",
              "0      B12  Regular     1217    R82  \n",
              "1      B12  Regular     1217    R82  \n",
              "2      B12   Diesel       54    R22  \n",
              "3      B12   Diesel       76    R72  \n",
              "4      B12   Diesel       76    R72  "
            ]
          },
          "metadata": {
            "tags": []
          },
          "execution_count": 13
        }
      ]
    },
    {
      "metadata": {
        "id": "WuAbi245fSPL",
        "colab_type": "code",
        "colab": {}
      },
      "cell_type": "code",
      "source": [
        "import numpy as np\n",
        "\n",
        "freMTPL2freq['id'] = freMTPL2freq.index + 1\n",
        "freMTPL2freq['Density'] = np.log(freMTPL2freq.Density)\n",
        "freMTPL2freq.loc[ freMTPL2freq['ClaimNb'] > 4.0, 'ClaimNb' ] = 4.0\n",
        "freMTPL2freq.loc[ freMTPL2freq['Exposure'] > 1.0, 'Exposure' ] = 1\n"
      ],
      "execution_count": 0,
      "outputs": []
    },
    {
      "metadata": {
        "id": "rHD1DO3e2cJp",
        "colab_type": "code",
        "outputId": "21c39ed9-9f96-491d-fa4b-efeb435f39fc",
        "colab": {
          "base_uri": "https://localhost:8080/",
          "height": 204
        }
      },
      "cell_type": "code",
      "source": [
        "from sklearn.model_selection import train_test_split\n",
        "\n",
        "train, test = train_test_split(freMTPL2freq,test_size = .05)\n",
        "train_idx, validation_idx = train_test_split(train['id'],test_size = .05)\n",
        "\n",
        "# Show validation set\n",
        "freMTPL2freq[freMTPL2freq.id.isin(validation_idx)].head()"
      ],
      "execution_count": 15,
      "outputs": [
        {
          "output_type": "execute_result",
          "data": {
            "text/html": [
              "<div>\n",
              "<style scoped>\n",
              "    .dataframe tbody tr th:only-of-type {\n",
              "        vertical-align: middle;\n",
              "    }\n",
              "\n",
              "    .dataframe tbody tr th {\n",
              "        vertical-align: top;\n",
              "    }\n",
              "\n",
              "    .dataframe thead th {\n",
              "        text-align: right;\n",
              "    }\n",
              "</style>\n",
              "<table border=\"1\" class=\"dataframe\">\n",
              "  <thead>\n",
              "    <tr style=\"text-align: right;\">\n",
              "      <th></th>\n",
              "      <th>IDpol</th>\n",
              "      <th>ClaimNb</th>\n",
              "      <th>Exposure</th>\n",
              "      <th>Area</th>\n",
              "      <th>VehPower</th>\n",
              "      <th>VehAge</th>\n",
              "      <th>DrivAge</th>\n",
              "      <th>BonusMalus</th>\n",
              "      <th>VehBrand</th>\n",
              "      <th>VehGas</th>\n",
              "      <th>Density</th>\n",
              "      <th>Region</th>\n",
              "      <th>id</th>\n",
              "    </tr>\n",
              "  </thead>\n",
              "  <tbody>\n",
              "    <tr>\n",
              "      <th>8</th>\n",
              "      <td>18.0</td>\n",
              "      <td>1.0</td>\n",
              "      <td>0.71</td>\n",
              "      <td>C</td>\n",
              "      <td>7</td>\n",
              "      <td>0</td>\n",
              "      <td>33</td>\n",
              "      <td>68</td>\n",
              "      <td>B12</td>\n",
              "      <td>Diesel</td>\n",
              "      <td>4.919981</td>\n",
              "      <td>R91</td>\n",
              "      <td>9</td>\n",
              "    </tr>\n",
              "    <tr>\n",
              "      <th>34</th>\n",
              "      <td>72.0</td>\n",
              "      <td>1.0</td>\n",
              "      <td>0.39</td>\n",
              "      <td>D</td>\n",
              "      <td>4</td>\n",
              "      <td>0</td>\n",
              "      <td>23</td>\n",
              "      <td>85</td>\n",
              "      <td>B12</td>\n",
              "      <td>Regular</td>\n",
              "      <td>6.278521</td>\n",
              "      <td>R93</td>\n",
              "      <td>35</td>\n",
              "    </tr>\n",
              "    <tr>\n",
              "      <th>59</th>\n",
              "      <td>121.0</td>\n",
              "      <td>1.0</td>\n",
              "      <td>0.05</td>\n",
              "      <td>C</td>\n",
              "      <td>6</td>\n",
              "      <td>0</td>\n",
              "      <td>37</td>\n",
              "      <td>55</td>\n",
              "      <td>B12</td>\n",
              "      <td>Diesel</td>\n",
              "      <td>5.713733</td>\n",
              "      <td>R11</td>\n",
              "      <td>60</td>\n",
              "    </tr>\n",
              "    <tr>\n",
              "      <th>78</th>\n",
              "      <td>161.0</td>\n",
              "      <td>1.0</td>\n",
              "      <td>0.81</td>\n",
              "      <td>E</td>\n",
              "      <td>5</td>\n",
              "      <td>0</td>\n",
              "      <td>53</td>\n",
              "      <td>50</td>\n",
              "      <td>B12</td>\n",
              "      <td>Regular</td>\n",
              "      <td>8.140316</td>\n",
              "      <td>R93</td>\n",
              "      <td>79</td>\n",
              "    </tr>\n",
              "    <tr>\n",
              "      <th>224</th>\n",
              "      <td>465.0</td>\n",
              "      <td>1.0</td>\n",
              "      <td>0.79</td>\n",
              "      <td>E</td>\n",
              "      <td>10</td>\n",
              "      <td>3</td>\n",
              "      <td>40</td>\n",
              "      <td>50</td>\n",
              "      <td>B12</td>\n",
              "      <td>Regular</td>\n",
              "      <td>8.635509</td>\n",
              "      <td>R11</td>\n",
              "      <td>225</td>\n",
              "    </tr>\n",
              "  </tbody>\n",
              "</table>\n",
              "</div>"
            ],
            "text/plain": [
              "     IDpol  ClaimNb  Exposure Area  VehPower  VehAge  DrivAge  BonusMalus  \\\n",
              "8     18.0      1.0      0.71    C         7       0       33          68   \n",
              "34    72.0      1.0      0.39    D         4       0       23          85   \n",
              "59   121.0      1.0      0.05    C         6       0       37          55   \n",
              "78   161.0      1.0      0.81    E         5       0       53          50   \n",
              "224  465.0      1.0      0.79    E        10       3       40          50   \n",
              "\n",
              "    VehBrand   VehGas   Density Region   id  \n",
              "8        B12   Diesel  4.919981    R91    9  \n",
              "34       B12  Regular  6.278521    R93   35  \n",
              "59       B12   Diesel  5.713733    R11   60  \n",
              "78       B12  Regular  8.140316    R93   79  \n",
              "224      B12  Regular  8.635509    R11  225  "
            ]
          },
          "metadata": {
            "tags": []
          },
          "execution_count": 15
        }
      ]
    },
    {
      "metadata": {
        "id": "Brv_UpzVfZpL",
        "colab_type": "code",
        "colab": {}
      },
      "cell_type": "code",
      "source": [
        "cats = ['Area', 'VehPower', 'VehBrand', 'VehGas', 'Region']\n",
        "cont = ['VehAge', 'DrivAge', 'BonusMalus', 'Density', 'Exposure']\n",
        "dep_var = 'ClaimNb'"
      ],
      "execution_count": 0,
      "outputs": []
    },
    {
      "metadata": {
        "id": "A2rKdMBAfkoK",
        "colab_type": "code",
        "colab": {}
      },
      "cell_type": "code",
      "source": [
        "from fastai.tabular import *\n",
        "\n",
        "procs=[Categorify, Normalize]\n",
        "\n",
        "path = Path('')"
      ],
      "execution_count": 0,
      "outputs": []
    },
    {
      "metadata": {
        "id": "iwguHcKTNdo5",
        "colab_type": "code",
        "outputId": "b2e73006-1f6e-4b2d-d834-6dae7a55c9d0",
        "colab": {
          "base_uri": "https://localhost:8080/",
          "height": 360
        }
      },
      "cell_type": "code",
      "source": [
        "data = (TabularList.from_df(freMTPL2freq, path=path, cat_names=cats, cont_names=cont, procs=procs)\n",
        "                   .split_by_idx(validation_idx)\n",
        "                   .label_from_df(cols=dep_var, label_cls=FloatList, log=False)\n",
        "                   .databunch(bs=256))\n",
        "\n",
        "data"
      ],
      "execution_count": 18,
      "outputs": [
        {
          "output_type": "execute_result",
          "data": {
            "text/plain": [
              "TabularDataBunch;\n",
              "\n",
              "Train: LabelList\n",
              "y: FloatList (645807 items)\n",
              "[FloatItem 1.0, FloatItem 1.0, FloatItem 1.0, FloatItem 1.0, FloatItem 1.0]...\n",
              "Path: .\n",
              "x: TabularList (645807 items)\n",
              "[TabularLine Area D; VehPower 5; VehBrand B12; VehGas Regular; Region R82; VehAge -1.2432; DrivAge 0.6726; BonusMalus -0.6244; Density 0.5998; Exposure -1.1768; , TabularLine Area D; VehPower 5; VehBrand B12; VehGas Regular; Region R82; VehAge -1.2432; DrivAge 0.6726; BonusMalus -0.6244; Density 0.5998; Exposure 0.6634; , TabularLine Area B; VehPower 6; VehBrand B12; VehGas Diesel; Region R22; VehAge -0.8903; DrivAge 0.4603; BonusMalus -0.6244; Density -1.0659; Exposure 0.6085; , TabularLine Area B; VehPower 7; VehBrand B12; VehGas Diesel; Region R72; VehAge -1.2432; DrivAge 0.0358; BonusMalus -0.6244; Density -0.8832; Exposure -1.2043; , TabularLine Area B; VehPower 7; VehBrand B12; VehGas Diesel; Region R72; VehAge -1.2432; DrivAge 0.0358; BonusMalus -0.6244; Density -0.8832; Exposure 0.8557; ]...\n",
              "Path: .;\n",
              "\n",
              "Valid: LabelList\n",
              "y: FloatList (32206 items)\n",
              "[FloatItem 1.0, FloatItem 0.0, FloatItem 0.0, FloatItem 0.0, FloatItem 0.0]...\n",
              "Path: .\n",
              "x: TabularList (32206 items)\n",
              "[TabularLine Area C; VehPower 5; VehBrand B2; VehGas Diesel; Region R26; VehAge -0.0080; DrivAge -1.0963; BonusMalus 1.9339; Density -0.3296; Exposure 0.1965; , TabularLine Area C; VehPower 4; VehBrand B1; VehGas Regular; Region R82; VehAge 0.1684; DrivAge 0.6018; BonusMalus -0.6244; Density -0.1690; Exposure 1.2952; , TabularLine Area C; VehPower 9; VehBrand B3; VehGas Regular; Region R53; VehAge 1.4036; DrivAge 0.3896; BonusMalus -0.6244; Density -0.4654; Exposure -1.2043; , TabularLine Area D; VehPower 7; VehBrand B5; VehGas Diesel; Region R25; VehAge 0.3449; DrivAge 1.2386; BonusMalus -0.6244; Density 0.6284; Exposure 1.2952; , TabularLine Area C; VehPower 9; VehBrand B13; VehGas Regular; Region R53; VehAge -0.1845; DrivAge -1.0963; BonusMalus -0.3685; Density -0.2934; Exposure 1.2952; ]...\n",
              "Path: .;\n",
              "\n",
              "Test: None"
            ]
          },
          "metadata": {
            "tags": []
          },
          "execution_count": 18
        }
      ]
    },
    {
      "metadata": {
        "id": "-SX9NMeTRnLQ",
        "colab_type": "code",
        "colab": {}
      },
      "cell_type": "code",
      "source": [
        "def poisson_dev(pred:Tensor, targ:Tensor)->Rank0Tensor:\n",
        "    \"Poisson deviance between `pred` and `targ`.\"\n",
        "    eps = 10e-4\n",
        "    return 2*torch.mean(pred - targ - targ*(torch.log(torch.clamp(pred,min = eps))-torch.log(torch.clamp(targ,min = eps))))"
      ],
      "execution_count": 0,
      "outputs": []
    },
    {
      "metadata": {
        "id": "-J3uskdFZ8fZ",
        "colab_type": "code",
        "outputId": "69312210-00d4-44a3-8dab-2094fff7590a",
        "colab": {
          "base_uri": "https://localhost:8080/",
          "height": 34
        }
      },
      "cell_type": "code",
      "source": [
        "max_y = np.max(train['ClaimNb'])*1\n",
        "print(max_y)\n",
        "y_range = torch.tensor([0, max_y], device=defaults.device)"
      ],
      "execution_count": 20,
      "outputs": [
        {
          "output_type": "stream",
          "text": [
            "4.0\n"
          ],
          "name": "stdout"
        }
      ]
    },
    {
      "metadata": {
        "id": "22vgNqLES6fm",
        "colab_type": "code",
        "colab": {}
      },
      "cell_type": "code",
      "source": [
        "learn = tabular_learner(data,emb_szs={'Area':2, 'VehPower':2, 'VehBrand':5, 'VehGas':1, 'Region':5},\n",
        "                        layers=[32,32], ps=[0.05,0.05], emb_drop=0,\n",
        "                      metrics=poisson_dev,y_range=y_range, wd=0)\n"
      ],
      "execution_count": 0,
      "outputs": []
    },
    {
      "metadata": {
        "id": "qVxQkNcbvdn6",
        "colab_type": "code",
        "colab": {
          "base_uri": "https://localhost:8080/",
          "height": 306
        },
        "outputId": "f518704e-97ff-451a-b087-92f1ef3c0bb9"
      },
      "cell_type": "code",
      "source": [
        "learn.layer_groups[0]\n"
      ],
      "execution_count": 77,
      "outputs": [
        {
          "output_type": "execute_result",
          "data": {
            "text/plain": [
              "Sequential(\n",
              "  (0): Embedding(7, 2)\n",
              "  (1): Embedding(13, 2)\n",
              "  (2): Embedding(12, 5)\n",
              "  (3): Embedding(3, 1)\n",
              "  (4): Embedding(23, 5)\n",
              "  (5): Dropout(p=0)\n",
              "  (6): BatchNorm1d(5, eps=1e-05, momentum=0.1, affine=True, track_running_stats=True)\n",
              "  (7): Linear(in_features=20, out_features=32, bias=True)\n",
              "  (8): ReLU(inplace)\n",
              "  (9): BatchNorm1d(32, eps=1e-05, momentum=0.1, affine=True, track_running_stats=True)\n",
              "  (10): Dropout(p=0.05)\n",
              "  (11): Linear(in_features=32, out_features=32, bias=True)\n",
              "  (12): BatchNorm1d(32, eps=1e-05, momentum=0.1, affine=True, track_running_stats=True)\n",
              "  (13): Dropout(p=0.05)\n",
              "  (14): Linear(in_features=32, out_features=1, bias=True)\n",
              ")"
            ]
          },
          "metadata": {
            "tags": []
          },
          "execution_count": 77
        }
      ]
    },
    {
      "metadata": {
        "id": "d_aJLowsTIet",
        "colab_type": "code",
        "outputId": "6627430a-28c7-4986-9a13-d8d15a86eb30",
        "colab": {
          "base_uri": "https://localhost:8080/",
          "height": 391
        }
      },
      "cell_type": "code",
      "source": [
        "learn.model"
      ],
      "execution_count": 78,
      "outputs": [
        {
          "output_type": "execute_result",
          "data": {
            "text/plain": [
              "TabularModel(\n",
              "  (embeds): ModuleList(\n",
              "    (0): Embedding(7, 2)\n",
              "    (1): Embedding(13, 2)\n",
              "    (2): Embedding(12, 5)\n",
              "    (3): Embedding(3, 1)\n",
              "    (4): Embedding(23, 5)\n",
              "  )\n",
              "  (emb_drop): Dropout(p=0)\n",
              "  (bn_cont): BatchNorm1d(5, eps=1e-05, momentum=0.1, affine=True, track_running_stats=True)\n",
              "  (layers): Sequential(\n",
              "    (0): Linear(in_features=20, out_features=32, bias=True)\n",
              "    (1): ReLU(inplace)\n",
              "    (2): BatchNorm1d(32, eps=1e-05, momentum=0.1, affine=True, track_running_stats=True)\n",
              "    (3): Dropout(p=0.05)\n",
              "    (4): Linear(in_features=32, out_features=32, bias=True)\n",
              "    (5): ReLU(inplace)\n",
              "    (6): BatchNorm1d(32, eps=1e-05, momentum=0.1, affine=True, track_running_stats=True)\n",
              "    (7): Dropout(p=0.05)\n",
              "    (8): Linear(in_features=32, out_features=1, bias=True)\n",
              "  )\n",
              ")"
            ]
          },
          "metadata": {
            "tags": []
          },
          "execution_count": 78
        }
      ]
    },
    {
      "metadata": {
        "id": "W-BsDHWMfuuX",
        "colab_type": "code",
        "outputId": "66e7ae1e-b9f4-408b-9f33-b33c8353d020",
        "colab": {
          "base_uri": "https://localhost:8080/",
          "height": 34
        }
      },
      "cell_type": "code",
      "source": [
        "learn.loss_func"
      ],
      "execution_count": 79,
      "outputs": [
        {
          "output_type": "execute_result",
          "data": {
            "text/plain": [
              "<fastai.layers.FlattenedLoss at 0x7f616442ff98>"
            ]
          },
          "metadata": {
            "tags": []
          },
          "execution_count": 79
        }
      ]
    },
    {
      "metadata": {
        "id": "Tz00iMohgKWf",
        "colab_type": "text"
      },
      "cell_type": "markdown",
      "source": [
        "Since the default loss function is a modified MSE, we need to set this to the Poisson loss"
      ]
    },
    {
      "metadata": {
        "id": "ucb4vg9Yfy5e",
        "colab_type": "code",
        "colab": {}
      },
      "cell_type": "code",
      "source": [
        "learn.loss_func = poisson_dev"
      ],
      "execution_count": 0,
      "outputs": []
    },
    {
      "metadata": {
        "id": "52o7d52lTQOt",
        "colab_type": "code",
        "outputId": "5ab68ae3-2c58-44db-bb32-88a3c8c32364",
        "colab": {
          "base_uri": "https://localhost:8080/",
          "height": 107
        }
      },
      "cell_type": "code",
      "source": [
        "learn.lr_find(stop_div=False)"
      ],
      "execution_count": 81,
      "outputs": [
        {
          "output_type": "display_data",
          "data": {
            "text/html": [
              "\n",
              "    <div>\n",
              "        <style>\n",
              "            /* Turns off some styling */\n",
              "            progress {\n",
              "                /* gets rid of default border in Firefox and Opera. */\n",
              "                border: none;\n",
              "                /* Needs to be in here for Safari polyfill so background images work as expected. */\n",
              "                background-size: auto;\n",
              "            }\n",
              "            .progress-bar-interrupted, .progress-bar-interrupted::-webkit-progress-bar {\n",
              "                background: #F44336;\n",
              "            }\n",
              "        </style>\n",
              "      <progress value='0' class='' max='1', style='width:300px; height:20px; vertical-align: middle;'></progress>\n",
              "      0.00% [0/1 00:00<00:00]\n",
              "    </div>\n",
              "    \n",
              "<table style='width:300px; margin-bottom:10px'>\n",
              "  <tr>\n",
              "    <th>epoch</th>\n",
              "    <th>train_loss</th>\n",
              "    <th>valid_loss</th>\n",
              "    <th>poisson_dev</th>\n",
              "  </tr>\n",
              "</table>\n",
              "\n",
              "\n",
              "    <div>\n",
              "        <style>\n",
              "            /* Turns off some styling */\n",
              "            progress {\n",
              "                /* gets rid of default border in Firefox and Opera. */\n",
              "                border: none;\n",
              "                /* Needs to be in here for Safari polyfill so background images work as expected. */\n",
              "                background-size: auto;\n",
              "            }\n",
              "            .progress-bar-interrupted, .progress-bar-interrupted::-webkit-progress-bar {\n",
              "                background: #F44336;\n",
              "            }\n",
              "        </style>\n",
              "      <progress value='0' class='progress-bar-interrupted' max='2522', style='width:300px; height:20px; vertical-align: middle;'></progress>\n",
              "      Interrupted\n",
              "    </div>\n",
              "    "
            ],
            "text/plain": [
              "<IPython.core.display.HTML object>"
            ]
          },
          "metadata": {
            "tags": []
          }
        },
        {
          "output_type": "stream",
          "text": [
            "LR Finder is complete, type {learner_name}.recorder.plot() to see the graph.\n"
          ],
          "name": "stdout"
        }
      ]
    },
    {
      "metadata": {
        "id": "rigbsQnrTVOV",
        "colab_type": "code",
        "outputId": "6d0630e4-8867-4797-9a59-6cb5e556124f",
        "colab": {
          "base_uri": "https://localhost:8080/",
          "height": 361
        }
      },
      "cell_type": "code",
      "source": [
        "learn.recorder.plot()"
      ],
      "execution_count": 82,
      "outputs": [
        {
          "output_type": "display_data",
          "data": {
            "image/png": "[encoded data removed]",
            "text/plain": [
              "<matplotlib.figure.Figure at 0x7f60d8da70b8>"
            ]
          },
          "metadata": {
            "tags": []
          }
        }
      ]
    },
    {
      "metadata": {
        "id": "o6yUwsOwTYiF",
        "colab_type": "code",
        "outputId": "2bcbf2dc-f1bd-49c5-8933-641f25a38fa1",
        "colab": {
          "base_uri": "https://localhost:8080/",
          "height": 838
        }
      },
      "cell_type": "code",
      "source": [
        "learn.fit_one_cycle(2, (1e-2))"
      ],
      "execution_count": 83,
      "outputs": [
        {
          "output_type": "display_data",
          "data": {
            "text/html": [
              "\n",
              "    <div>\n",
              "        <style>\n",
              "            /* Turns off some styling */\n",
              "            progress {\n",
              "                /* gets rid of default border in Firefox and Opera. */\n",
              "                border: none;\n",
              "                /* Needs to be in here for Safari polyfill so background images work as expected. */\n",
              "                background-size: auto;\n",
              "            }\n",
              "            .progress-bar-interrupted, .progress-bar-interrupted::-webkit-progress-bar {\n",
              "                background: #F44336;\n",
              "            }\n",
              "        </style>\n",
              "      <progress value='1' class='' max='2', style='width:300px; height:20px; vertical-align: middle;'></progress>\n",
              "      50.00% [1/2 01:02<01:02]\n",
              "    </div>\n",
              "    \n",
              "<table style='width:300px; margin-bottom:10px'>\n",
              "  <tr>\n",
              "    <th>epoch</th>\n",
              "    <th>train_loss</th>\n",
              "    <th>valid_loss</th>\n",
              "    <th>poisson_dev</th>\n",
              "  </tr>\n",
              "  <tr>\n",
              "    <th>1</th>\n",
              "    <th>0.327328</th>\n",
              "    <th>0.314082</th>\n",
              "    <th>0.314082</th>\n",
              "  </tr>\n",
              "</table>\n",
              "\n",
              "\n",
              "    <div>\n",
              "        <style>\n",
              "            /* Turns off some styling */\n",
              "            progress {\n",
              "                /* gets rid of default border in Firefox and Opera. */\n",
              "                border: none;\n",
              "                /* Needs to be in here for Safari polyfill so background images work as expected. */\n",
              "                background-size: auto;\n",
              "            }\n",
              "            .progress-bar-interrupted, .progress-bar-interrupted::-webkit-progress-bar {\n",
              "                background: #F44336;\n",
              "            }\n",
              "        </style>\n",
              "      <progress value='0' class='progress-bar-interrupted' max='2522', style='width:300px; height:20px; vertical-align: middle;'></progress>\n",
              "      Interrupted\n",
              "    </div>\n",
              "    "
            ],
            "text/plain": [
              "<IPython.core.display.HTML object>"
            ]
          },
          "metadata": {
            "tags": []
          }
        },
        {
          "output_type": "error",
          "ename": "KeyboardInterrupt",
          "evalue": "ignored",
          "traceback": [
            "\u001b[0;31m---------------------------------------------------------------------------\u001b[0m",
            "\u001b[0;31mKeyboardInterrupt\u001b[0m                         Traceback (most recent call last)",
            "\u001b[0;32m<ipython-input-83-b93097b8d495>\u001b[0m in \u001b[0;36m<module>\u001b[0;34m()\u001b[0m\n\u001b[0;32m----> 1\u001b[0;31m \u001b[0mlearn\u001b[0m\u001b[0;34m.\u001b[0m\u001b[0mfit_one_cycle\u001b[0m\u001b[0;34m(\u001b[0m\u001b[0;36m2\u001b[0m\u001b[0;34m,\u001b[0m \u001b[0;34m(\u001b[0m\u001b[0;36m1e-2\u001b[0m\u001b[0;34m)\u001b[0m\u001b[0;34m)\u001b[0m\u001b[0;34m\u001b[0m\u001b[0;34m\u001b[0m\u001b[0m\n\u001b[0m",
            "\u001b[0;32m/usr/local/lib/python3.6/dist-packages/fastai/train.py\u001b[0m in \u001b[0;36mfit_one_cycle\u001b[0;34m(learn, cyc_len, max_lr, moms, div_factor, pct_start, wd, callbacks, **kwargs)\u001b[0m\n\u001b[1;32m     20\u001b[0m     callbacks.append(OneCycleScheduler(learn, max_lr, moms=moms, div_factor=div_factor,\n\u001b[1;32m     21\u001b[0m                                         pct_start=pct_start, **kwargs))\n\u001b[0;32m---> 22\u001b[0;31m     \u001b[0mlearn\u001b[0m\u001b[0;34m.\u001b[0m\u001b[0mfit\u001b[0m\u001b[0;34m(\u001b[0m\u001b[0mcyc_len\u001b[0m\u001b[0;34m,\u001b[0m \u001b[0mmax_lr\u001b[0m\u001b[0;34m,\u001b[0m \u001b[0mwd\u001b[0m\u001b[0;34m=\u001b[0m\u001b[0mwd\u001b[0m\u001b[0;34m,\u001b[0m \u001b[0mcallbacks\u001b[0m\u001b[0;34m=\u001b[0m\u001b[0mcallbacks\u001b[0m\u001b[0;34m)\u001b[0m\u001b[0;34m\u001b[0m\u001b[0;34m\u001b[0m\u001b[0m\n\u001b[0m\u001b[1;32m     23\u001b[0m \u001b[0;34m\u001b[0m\u001b[0m\n\u001b[1;32m     24\u001b[0m \u001b[0;32mdef\u001b[0m \u001b[0mlr_find\u001b[0m\u001b[0;34m(\u001b[0m\u001b[0mlearn\u001b[0m\u001b[0;34m:\u001b[0m\u001b[0mLearner\u001b[0m\u001b[0;34m,\u001b[0m \u001b[0mstart_lr\u001b[0m\u001b[0;34m:\u001b[0m\u001b[0mFloats\u001b[0m\u001b[0;34m=\u001b[0m\u001b[0;36m1e-7\u001b[0m\u001b[0;34m,\u001b[0m \u001b[0mend_lr\u001b[0m\u001b[0;34m:\u001b[0m\u001b[0mFloats\u001b[0m\u001b[0;34m=\u001b[0m\u001b[0;36m10\u001b[0m\u001b[0;34m,\u001b[0m \u001b[0mnum_it\u001b[0m\u001b[0;34m:\u001b[0m\u001b[0mint\u001b[0m\u001b[0;34m=\u001b[0m\u001b[0;36m100\u001b[0m\u001b[0;34m,\u001b[0m \u001b[0mstop_div\u001b[0m\u001b[0;34m:\u001b[0m\u001b[0mbool\u001b[0m\u001b[0;34m=\u001b[0m\u001b[0;32mTrue\u001b[0m\u001b[0;34m,\u001b[0m \u001b[0;34m**\u001b[0m\u001b[0mkwargs\u001b[0m\u001b[0;34m:\u001b[0m\u001b[0mAny\u001b[0m\u001b[0;34m)\u001b[0m\u001b[0;34m:\u001b[0m\u001b[0;34m\u001b[0m\u001b[0;34m\u001b[0m\u001b[0m\n",
            "\u001b[0;32m/usr/local/lib/python3.6/dist-packages/fastai/basic_train.py\u001b[0m in \u001b[0;36mfit\u001b[0;34m(self, epochs, lr, wd, callbacks)\u001b[0m\n\u001b[1;32m    170\u001b[0m         \u001b[0mcallbacks\u001b[0m \u001b[0;34m=\u001b[0m \u001b[0;34m[\u001b[0m\u001b[0mcb\u001b[0m\u001b[0;34m(\u001b[0m\u001b[0mself\u001b[0m\u001b[0;34m)\u001b[0m \u001b[0;32mfor\u001b[0m \u001b[0mcb\u001b[0m \u001b[0;32min\u001b[0m \u001b[0mself\u001b[0m\u001b[0;34m.\u001b[0m\u001b[0mcallback_fns\u001b[0m\u001b[0;34m]\u001b[0m \u001b[0;34m+\u001b[0m \u001b[0mlistify\u001b[0m\u001b[0;34m(\u001b[0m\u001b[0mcallbacks\u001b[0m\u001b[0;34m)\u001b[0m\u001b[0;34m\u001b[0m\u001b[0;34m\u001b[0m\u001b[0m\n\u001b[1;32m    171\u001b[0m         fit(epochs, self.model, self.loss_func, opt=self.opt, data=self.data, metrics=self.metrics,\n\u001b[0;32m--> 172\u001b[0;31m             callbacks=self.callbacks+callbacks)\n\u001b[0m\u001b[1;32m    173\u001b[0m \u001b[0;34m\u001b[0m\u001b[0m\n\u001b[1;32m    174\u001b[0m     \u001b[0;32mdef\u001b[0m \u001b[0mcreate_opt\u001b[0m\u001b[0;34m(\u001b[0m\u001b[0mself\u001b[0m\u001b[0;34m,\u001b[0m \u001b[0mlr\u001b[0m\u001b[0;34m:\u001b[0m\u001b[0mFloats\u001b[0m\u001b[0;34m,\u001b[0m \u001b[0mwd\u001b[0m\u001b[0;34m:\u001b[0m\u001b[0mFloats\u001b[0m\u001b[0;34m=\u001b[0m\u001b[0;36m0.\u001b[0m\u001b[0;34m)\u001b[0m\u001b[0;34m->\u001b[0m\u001b[0;32mNone\u001b[0m\u001b[0;34m:\u001b[0m\u001b[0;34m\u001b[0m\u001b[0;34m\u001b[0m\u001b[0m\n",
            "\u001b[0;32m/usr/local/lib/python3.6/dist-packages/fastai/basic_train.py\u001b[0m in \u001b[0;36mfit\u001b[0;34m(epochs, model, loss_func, opt, data, callbacks, metrics)\u001b[0m\n\u001b[1;32m     82\u001b[0m             \u001b[0;32mfor\u001b[0m \u001b[0mxb\u001b[0m\u001b[0;34m,\u001b[0m\u001b[0myb\u001b[0m \u001b[0;32min\u001b[0m \u001b[0mprogress_bar\u001b[0m\u001b[0;34m(\u001b[0m\u001b[0mdata\u001b[0m\u001b[0;34m.\u001b[0m\u001b[0mtrain_dl\u001b[0m\u001b[0;34m,\u001b[0m \u001b[0mparent\u001b[0m\u001b[0;34m=\u001b[0m\u001b[0mpbar\u001b[0m\u001b[0;34m)\u001b[0m\u001b[0;34m:\u001b[0m\u001b[0;34m\u001b[0m\u001b[0;34m\u001b[0m\u001b[0m\n\u001b[1;32m     83\u001b[0m                 \u001b[0mxb\u001b[0m\u001b[0;34m,\u001b[0m \u001b[0myb\u001b[0m \u001b[0;34m=\u001b[0m \u001b[0mcb_handler\u001b[0m\u001b[0;34m.\u001b[0m\u001b[0mon_batch_begin\u001b[0m\u001b[0;34m(\u001b[0m\u001b[0mxb\u001b[0m\u001b[0;34m,\u001b[0m \u001b[0myb\u001b[0m\u001b[0;34m)\u001b[0m\u001b[0;34m\u001b[0m\u001b[0;34m\u001b[0m\u001b[0m\n\u001b[0;32m---> 84\u001b[0;31m                 \u001b[0mloss\u001b[0m \u001b[0;34m=\u001b[0m \u001b[0mloss_batch\u001b[0m\u001b[0;34m(\u001b[0m\u001b[0mmodel\u001b[0m\u001b[0;34m,\u001b[0m \u001b[0mxb\u001b[0m\u001b[0;34m,\u001b[0m \u001b[0myb\u001b[0m\u001b[0;34m,\u001b[0m \u001b[0mloss_func\u001b[0m\u001b[0;34m,\u001b[0m \u001b[0mopt\u001b[0m\u001b[0;34m,\u001b[0m \u001b[0mcb_handler\u001b[0m\u001b[0;34m)\u001b[0m\u001b[0;34m\u001b[0m\u001b[0;34m\u001b[0m\u001b[0m\n\u001b[0m\u001b[1;32m     85\u001b[0m                 \u001b[0;32mif\u001b[0m \u001b[0mcb_handler\u001b[0m\u001b[0;34m.\u001b[0m\u001b[0mon_batch_end\u001b[0m\u001b[0;34m(\u001b[0m\u001b[0mloss\u001b[0m\u001b[0;34m)\u001b[0m\u001b[0;34m:\u001b[0m \u001b[0;32mbreak\u001b[0m\u001b[0;34m\u001b[0m\u001b[0;34m\u001b[0m\u001b[0m\n\u001b[1;32m     86\u001b[0m \u001b[0;34m\u001b[0m\u001b[0m\n",
            "\u001b[0;32m/usr/local/lib/python3.6/dist-packages/fastai/basic_train.py\u001b[0m in \u001b[0;36mloss_batch\u001b[0;34m(model, xb, yb, loss_func, opt, cb_handler)\u001b[0m\n\u001b[1;32m     20\u001b[0m \u001b[0;34m\u001b[0m\u001b[0m\n\u001b[1;32m     21\u001b[0m     \u001b[0;32mif\u001b[0m \u001b[0;32mnot\u001b[0m \u001b[0mloss_func\u001b[0m\u001b[0;34m:\u001b[0m \u001b[0;32mreturn\u001b[0m \u001b[0mto_detach\u001b[0m\u001b[0;34m(\u001b[0m\u001b[0mout\u001b[0m\u001b[0;34m)\u001b[0m\u001b[0;34m,\u001b[0m \u001b[0myb\u001b[0m\u001b[0;34m[\u001b[0m\u001b[0;36m0\u001b[0m\u001b[0;34m]\u001b[0m\u001b[0;34m.\u001b[0m\u001b[0mdetach\u001b[0m\u001b[0;34m(\u001b[0m\u001b[0;34m)\u001b[0m\u001b[0;34m\u001b[0m\u001b[0;34m\u001b[0m\u001b[0m\n\u001b[0;32m---> 22\u001b[0;31m     \u001b[0mloss\u001b[0m \u001b[0;34m=\u001b[0m \u001b[0mloss_func\u001b[0m\u001b[0;34m(\u001b[0m\u001b[0mout\u001b[0m\u001b[0;34m,\u001b[0m \u001b[0;34m*\u001b[0m\u001b[0myb\u001b[0m\u001b[0;34m)\u001b[0m\u001b[0;34m\u001b[0m\u001b[0;34m\u001b[0m\u001b[0m\n\u001b[0m\u001b[1;32m     23\u001b[0m \u001b[0;34m\u001b[0m\u001b[0m\n\u001b[1;32m     24\u001b[0m     \u001b[0;32mif\u001b[0m \u001b[0mopt\u001b[0m \u001b[0;32mis\u001b[0m \u001b[0;32mnot\u001b[0m \u001b[0;32mNone\u001b[0m\u001b[0;34m:\u001b[0m\u001b[0;34m\u001b[0m\u001b[0;34m\u001b[0m\u001b[0m\n",
            "\u001b[0;32m<ipython-input-19-6f7006695aa6>\u001b[0m in \u001b[0;36mpoisson_dev\u001b[0;34m(pred, targ)\u001b[0m\n\u001b[1;32m      2\u001b[0m     \u001b[0;34m\"Poisson deviance between `pred` and `targ`.\"\u001b[0m\u001b[0;34m\u001b[0m\u001b[0;34m\u001b[0m\u001b[0m\n\u001b[1;32m      3\u001b[0m     \u001b[0meps\u001b[0m \u001b[0;34m=\u001b[0m \u001b[0;36m10e-4\u001b[0m\u001b[0;34m\u001b[0m\u001b[0;34m\u001b[0m\u001b[0m\n\u001b[0;32m----> 4\u001b[0;31m     \u001b[0;32mreturn\u001b[0m \u001b[0;36m2\u001b[0m\u001b[0;34m*\u001b[0m\u001b[0mtorch\u001b[0m\u001b[0;34m.\u001b[0m\u001b[0mmean\u001b[0m\u001b[0;34m(\u001b[0m\u001b[0mpred\u001b[0m \u001b[0;34m-\u001b[0m \u001b[0mtarg\u001b[0m \u001b[0;34m-\u001b[0m \u001b[0mtarg\u001b[0m\u001b[0;34m*\u001b[0m\u001b[0;34m(\u001b[0m\u001b[0mtorch\u001b[0m\u001b[0;34m.\u001b[0m\u001b[0mlog\u001b[0m\u001b[0;34m(\u001b[0m\u001b[0mtorch\u001b[0m\u001b[0;34m.\u001b[0m\u001b[0mclamp\u001b[0m\u001b[0;34m(\u001b[0m\u001b[0mpred\u001b[0m\u001b[0;34m,\u001b[0m\u001b[0mmin\u001b[0m \u001b[0;34m=\u001b[0m \u001b[0meps\u001b[0m\u001b[0;34m)\u001b[0m\u001b[0;34m)\u001b[0m\u001b[0;34m-\u001b[0m\u001b[0mtorch\u001b[0m\u001b[0;34m.\u001b[0m\u001b[0mlog\u001b[0m\u001b[0;34m(\u001b[0m\u001b[0mtorch\u001b[0m\u001b[0;34m.\u001b[0m\u001b[0mclamp\u001b[0m\u001b[0;34m(\u001b[0m\u001b[0mtarg\u001b[0m\u001b[0;34m,\u001b[0m\u001b[0mmin\u001b[0m \u001b[0;34m=\u001b[0m \u001b[0meps\u001b[0m\u001b[0;34m)\u001b[0m\u001b[0;34m)\u001b[0m\u001b[0;34m)\u001b[0m\u001b[0;34m)\u001b[0m\u001b[0;34m\u001b[0m\u001b[0;34m\u001b[0m\u001b[0m\n\u001b[0m",
            "\u001b[0;31mKeyboardInterrupt\u001b[0m: "
          ]
        }
      ]
    },
    {
      "metadata": {
        "id": "Y3xG3vnLinK6",
        "colab_type": "code",
        "colab": {
          "base_uri": "https://localhost:8080/",
          "height": 107
        },
        "outputId": "ce1115d2-cbe7-4b64-b0d3-4725ad4bc9e5"
      },
      "cell_type": "code",
      "source": [
        "learn.lr_find()"
      ],
      "execution_count": 56,
      "outputs": [
        {
          "output_type": "display_data",
          "data": {
            "text/html": [
              "\n",
              "    <div>\n",
              "        <style>\n",
              "            /* Turns off some styling */\n",
              "            progress {\n",
              "                /* gets rid of default border in Firefox and Opera. */\n",
              "                border: none;\n",
              "                /* Needs to be in here for Safari polyfill so background images work as expected. */\n",
              "                background-size: auto;\n",
              "            }\n",
              "            .progress-bar-interrupted, .progress-bar-interrupted::-webkit-progress-bar {\n",
              "                background: #F44336;\n",
              "            }\n",
              "        </style>\n",
              "      <progress value='0' class='' max='1', style='width:300px; height:20px; vertical-align: middle;'></progress>\n",
              "      0.00% [0/1 00:00<00:00]\n",
              "    </div>\n",
              "    \n",
              "<table style='width:300px; margin-bottom:10px'>\n",
              "  <tr>\n",
              "    <th>epoch</th>\n",
              "    <th>train_loss</th>\n",
              "    <th>valid_loss</th>\n",
              "    <th>poisson_dev</th>\n",
              "  </tr>\n",
              "</table>\n",
              "\n",
              "\n",
              "    <div>\n",
              "        <style>\n",
              "            /* Turns off some styling */\n",
              "            progress {\n",
              "                /* gets rid of default border in Firefox and Opera. */\n",
              "                border: none;\n",
              "                /* Needs to be in here for Safari polyfill so background images work as expected. */\n",
              "                background-size: auto;\n",
              "            }\n",
              "            .progress-bar-interrupted, .progress-bar-interrupted::-webkit-progress-bar {\n",
              "                background: #F44336;\n",
              "            }\n",
              "        </style>\n",
              "      <progress value='0' class='progress-bar-interrupted' max='2522', style='width:300px; height:20px; vertical-align: middle;'></progress>\n",
              "      Interrupted\n",
              "    </div>\n",
              "    "
            ],
            "text/plain": [
              "<IPython.core.display.HTML object>"
            ]
          },
          "metadata": {
            "tags": []
          }
        },
        {
          "output_type": "stream",
          "text": [
            "LR Finder is complete, type {learner_name}.recorder.plot() to see the graph.\n"
          ],
          "name": "stdout"
        }
      ]
    },
    {
      "metadata": {
        "id": "Lj-o_I66mb8x",
        "colab_type": "code",
        "colab": {
          "base_uri": "https://localhost:8080/",
          "height": 362
        },
        "outputId": "89bf5147-a93c-459d-dae5-bb5ea98728cc"
      },
      "cell_type": "code",
      "source": [
        "learn.recorder.plot()"
      ],
      "execution_count": 57,
      "outputs": [
        {
          "output_type": "display_data",
          "data": {
            "image/png": "[encoded data removed]",
            "text/plain": [
              "<matplotlib.figure.Figure at 0x7f60d02473c8>"
            ]
          },
          "metadata": {
            "tags": []
          }
        }
      ]
    },
    {
      "metadata": {
        "id": "u2SegejkuAwQ",
        "colab_type": "code",
        "colab": {
          "base_uri": "https://localhost:8080/",
          "height": 115
        },
        "outputId": "f81490bf-7352-42a6-9d95-d32893b59a45"
      },
      "cell_type": "code",
      "source": [
        "learn.fit_one_cycle(2, slice(1e-4))"
      ],
      "execution_count": 58,
      "outputs": [
        {
          "output_type": "display_data",
          "data": {
            "text/html": [
              "Total time: 02:01 <p><table style='width:300px; margin-bottom:10px'>\n",
              "  <tr>\n",
              "    <th>epoch</th>\n",
              "    <th>train_loss</th>\n",
              "    <th>valid_loss</th>\n",
              "    <th>poisson_dev</th>\n",
              "  </tr>\n",
              "  <tr>\n",
              "    <th>1</th>\n",
              "    <th>0.317366</th>\n",
              "    <th>0.313336</th>\n",
              "    <th>0.313336</th>\n",
              "  </tr>\n",
              "  <tr>\n",
              "    <th>2</th>\n",
              "    <th>0.325065</th>\n",
              "    <th>0.313574</th>\n",
              "    <th>0.313574</th>\n",
              "  </tr>\n",
              "</table>\n"
            ],
            "text/plain": [
              "<IPython.core.display.HTML object>"
            ]
          },
          "metadata": {
            "tags": []
          }
        }
      ]
    },
    {
      "metadata": {
        "id": "bmMlVZg0uGxB",
        "colab_type": "code",
        "colab": {}
      },
      "cell_type": "code",
      "source": [
        ""
      ],
      "execution_count": 0,
      "outputs": []
    }
  ]
}